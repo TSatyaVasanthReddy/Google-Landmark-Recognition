{
 "cells": [
  {
   "cell_type": "markdown",
   "metadata": {},
   "source": [
    "This script is used for training a HD-CNN.\n",
    "Zhicheng \"Stephen\" Yan, 2015"
   ]
  },
  {
   "cell_type": "code",
   "execution_count": 3,
   "metadata": {},
   "outputs": [
    {
     "ename": "ModuleNotFoundError",
     "evalue": "No module named 'caffe'",
     "output_type": "error",
     "traceback": [
      "\u001b[0;31m---------------------------------------------------------------------------\u001b[0m",
      "\u001b[0;31mModuleNotFoundError\u001b[0m                       Traceback (most recent call last)",
      "\u001b[0;32m<ipython-input-3-9204891b4663>\u001b[0m in \u001b[0;36m<module>\u001b[0;34m()\u001b[0m\n\u001b[1;32m      8\u001b[0m \u001b[0;32mfrom\u001b[0m \u001b[0msklearn\u001b[0m\u001b[0;34m.\u001b[0m\u001b[0mcluster\u001b[0m \u001b[0;32mimport\u001b[0m \u001b[0;34m*\u001b[0m\u001b[0;34m\u001b[0m\u001b[0m\n\u001b[1;32m      9\u001b[0m \u001b[0;32mimport\u001b[0m \u001b[0mcopy\u001b[0m\u001b[0;34m\u001b[0m\u001b[0m\n\u001b[0;32m---> 10\u001b[0;31m \u001b[0;32mimport\u001b[0m \u001b[0mcaffe\u001b[0m\u001b[0;34m\u001b[0m\u001b[0m\n\u001b[0m\u001b[1;32m     11\u001b[0m \u001b[0;32mimport\u001b[0m \u001b[0mcaffe_pb2\u001b[0m\u001b[0;34m\u001b[0m\u001b[0m\n\u001b[1;32m     12\u001b[0m \u001b[0;32mimport\u001b[0m \u001b[0msys\u001b[0m\u001b[0;34m\u001b[0m\u001b[0m\n",
      "\u001b[0;31mModuleNotFoundError\u001b[0m: No module named 'caffe'"
     ]
    }
   ],
   "source": [
    "import os\n",
    "import numpy as np\n",
    "import numpy.random as rd\n",
    "import matplotlib.pyplot as plt\n",
    "%matplotlib inline\n",
    "import scipy.linalg\n",
    "from sklearn.cluster import k_means\n",
    "from sklearn.cluster import *\n",
    "import copy\n",
    "import caffe\n",
    "import caffe_pb2\n",
    "import sys\n",
    "from util_func import *\n",
    "import leveldb\n",
    "import lmdb\n",
    "from random import shuffle\n"
   ]
  },
  {
   "cell_type": "code",
   "execution_count": null,
   "metadata": {},
   "outputs": [],
   "source": [
    "\n",
    "\n",
    "# Make sure that caffe is on the python path:\n",
    "caffe_root = os.environ['CAFFE_PROJ_DIR']\n",
    "print 'caffe_root',caffe_root\n",
    "\n",
    "sys.path.append(caffe_root + 'python')\n",
    "sys.path.append(caffe_root + 'python/util')\n",
    "\n",
    "sys.path.append(caffe_root + 'python/caffe/proto')\n",
    "\n",
    "plt.rcParams['figure.figsize'] = (5, 5)\n",
    "plt.rcParams['image.interpolation'] = 'nearest'\n",
    "plt.rcParams['image.cmap'] = 'gray'"
   ]
  },
  {
   "cell_type": "code",
   "execution_count": 2,
   "metadata": {},
   "outputs": [],
   "source": [
    "local_model_dir = 'models/cifar100_NIN_float_crop_v2/'\n",
    "model_dir=caffe_root+local_model_dir\n",
    "num_val, num_class = 10000, 100"
   ]
  },
  {
   "cell_type": "code",
   "execution_count": 3,
   "metadata": {},
   "outputs": [
    {
     "name": "stdout",
     "output_type": "stream",
     "text": [
      "compute softmax probabilities\n",
      "num 10000 dim 100\n"
     ]
    }
   ],
   "source": [
    "'''\n",
    "read 100-class probabilities for validation images from leveldb\n",
    "'''\n",
    "val_prob=np.zeros((num_val,num_class))\n",
    "db = leveldb.LevelDB(caffe_root + 'examples/cifar100/train_val/cifar100_NIN_float_crop_v2_val_poolg_leveldb')\n",
    "\n",
    "for i in range(num_val):\n",
    "    key='%d'%i\n",
    "    str_data=db.Get(key)\n",
    "    datum = caffe_pb2.Datum()\n",
    "    datum.ParseFromString(str_data)    \n",
    "    for j in range(num_class):\n",
    "        val_prob[i,j]=datum.float_data[j]\n",
    "val_prob=softmax(val_prob)"
   ]
  },
  {
   "cell_type": "code",
   "execution_count": 4,
   "metadata": {},
   "outputs": [],
   "source": [
    "'''load fine label names'''\n",
    "label_names = []\n",
    "with open(caffe_root + 'data/cifar100/fine_label_names.txt') as f:\n",
    "    for line in f:\n",
    "        label_names += [line[:-1]]"
   ]
  },
  {
   "cell_type": "code",
   "execution_count": 5,
   "metadata": {},
   "outputs": [
    {
     "name": "stdout",
     "output_type": "stream",
     "text": [
      "40000 validation images \n",
      "10000 validation images \n",
      "100 classes\n"
     ]
    }
   ],
   "source": [
    "'''load (name, label) for training & held-out images'''\n",
    "train_train_img_list= caffe_root + 'data/cifar100/train_train.txt'\n",
    "train_val_img_list = caffe_root + 'data/cifar100/train_val.txt'\n",
    "train_train_img_names,train_train_img_labels=read_val_image_list(train_train_img_list)\n",
    "train_val_img_names,train_val_img_labels=read_val_image_list(train_val_img_list)\n",
    "train_train_img_labels,train_val_img_labels=np.asarray(train_train_img_labels),np.asarray(train_val_img_labels)\n",
    "class_num = np.max(train_train_img_labels) + 1\n",
    "print '%d classes' % class_num"
   ]
  },
  {
   "cell_type": "code",
   "execution_count": 6,
   "metadata": {},
   "outputs": [
    {
     "name": "stdout",
     "output_type": "stream",
     "text": [
      "accuracy 0.606\n"
     ]
    }
   ],
   "source": [
    "pred_labels_val = np.zeros((num_val),dtype=np.int32)\n",
    "accuracy = 0.\n",
    "for i in range(num_val):\n",
    "    idx=np.argsort(val_prob[i,:])[::-1]\n",
    "    pred_labels_val[i] = idx[0]\n",
    "correct_idx = np.nonzero((train_val_img_labels - pred_labels_val)==0)[0]\n",
    "accuracy = len(correct_idx) / np.float32(num_val)\n",
    "print 'accuracy %4.3f' % accuracy"
   ]
  },
  {
   "cell_type": "code",
   "execution_count": 7,
   "metadata": {},
   "outputs": [
    {
     "data": {
      "text/plain": [
       "<matplotlib.image.AxesImage at 0x7f0c66c6a850>"
      ]
     },
     "execution_count": 7,
     "metadata": {},
     "output_type": "execute_result"
    },
    {
     "data": {
      "image/png": "[encoded data removed]",
      "text/plain": [
       "<matplotlib.figure.Figure at 0x7f0cac50ef50>"
      ]
     },
     "metadata": {},
     "output_type": "display_data"
    }
   ],
   "source": [
    "'''plot confusion matrix'''\n",
    "confusion_mat = np.zeros((num_class,num_class))\n",
    "for i in range(num_class):\n",
    "    idx=np.nonzero(train_val_img_labels==i)[0]\n",
    "    pred_label_ = pred_labels_val[idx]\n",
    "    confusion_mat[i,:] = np.float64(np.bincount(pred_label_,minlength=num_class))/np.float64(len(idx))    \n",
    "plt.figure()\n",
    "plt.title('confusion matrix on validation set')\n",
    "plt.imshow(confusion_mat)"
   ]
  },
  {
   "cell_type": "code",
   "execution_count": 10,
   "metadata": {},
   "outputs": [
    {
     "data": {
      "text/plain": [
       "<matplotlib.image.AxesImage at 0x7f0c667725d0>"
      ]
     },
     "execution_count": 10,
     "metadata": {},
     "output_type": "execute_result"
    },
    {
     "data": {
      "image/png": "[encoded data removed]",
      "text/plain": [
       "<matplotlib.figure.Figure at 0x7f0c6677e990>"
      ]
     },
     "metadata": {},
     "output_type": "display_data"
    }
   ],
   "source": [
    "dist_mat = 1.0 - confusion_mat\n",
    "'''set diagonal elements to 0'''\n",
    "dist_mat[range(num_class),range(num_class)]=0\n",
    "dist_mat = 0.5 * (dist_mat + dist_mat.T)\n",
    "plt.figure()\n",
    "plt.title('distance matrix on validation set')\n",
    "plt.imshow(dist_mat)"
   ]
  },
  {
   "cell_type": "code",
   "execution_count": 11,
   "metadata": {},
   "outputs": [
    {
     "name": "stdout",
     "output_type": "stream",
     "text": [
      "[-0.1 -0.1 -0.1 -0.1 -0.1 -0.1 -0.1 -0.1 -0.1 -0.1 -0.1 -0.1 -0.1 -0.1 -0.1\n",
      " -0.1 -0.1 -0.1 -0.1 -0.1 -0.1 -0.1 -0.1 -0.1 -0.1 -0.1 -0.1 -0.1 -0.1 -0.1\n",
      " -0.1 -0.1 -0.1 -0.1 -0.1 -0.1 -0.1 -0.1 -0.1 -0.1 -0.1 -0.1 -0.1 -0.1 -0.1\n",
      " -0.1 -0.1 -0.1 -0.1 -0.1 -0.1 -0.1 -0.1 -0.1 -0.1 -0.1 -0.1 -0.1 -0.1 -0.1\n",
      " -0.1 -0.1 -0.1 -0.1 -0.1 -0.1 -0.1 -0.1 -0.1 -0.1 -0.1 -0.1 -0.1 -0.1 -0.1\n",
      " -0.1 -0.1 -0.1 -0.1 -0.1 -0.1 -0.1 -0.1 -0.1 -0.1 -0.1 -0.1 -0.1 -0.1 -0.1\n",
      " -0.1 -0.1 -0.1 -0.1 -0.1 -0.1 -0.1 -0.1 -0.1 -0.1]\n"
     ]
    },
    {
     "data": {
      "text/plain": [
       "[<matplotlib.lines.Line2D at 0x7f0c664f7ed0>]"
      ]
     },
     "execution_count": 11,
     "metadata": {},
     "output_type": "execute_result"
    },
    {
     "data": {
      "image/png": "[encoded data removed]",
      "text/plain": [
       "<matplotlib.figure.Figure at 0x7f0c66772f90>"
      ]
     },
     "metadata": {},
     "output_type": "display_data"
    }
   ],
   "source": [
    "'''Laplacian eigenmap dimensionality reduction\n",
    "construct adjacency graph W (symmetric) using k-NN'''\n",
    "W=np.zeros((num_class,num_class))\n",
    "\n",
    "''' 9 clusteres'''\n",
    "k_nn, t, dim = 5, 0.9, 4\n",
    "\n",
    "for i in range(num_class):\n",
    "    idx=np.argsort(dist_mat[i,:])[1:k_nn+1]\n",
    "    W[i,idx]=np.exp(-dist_mat[i,idx] / t)\n",
    "    W[idx,i]=W[i,idx]\n",
    "D=np.zeros(W.shape)\n",
    "for i in range(num_class):\n",
    "    D[i,i]=np.sum(W[i,:])\n",
    "L=D-W\n",
    "eig_val,eig_vec=scipy.linalg.eig(L,D)\n",
    "ftr=eig_vec[:,1:dim+1]\n",
    "print eig_vec[:,0] # the 1st eigenvector should be all ones\n",
    "eigval_cumsum = np.cumsum(np.real(eig_val))\n",
    "plt.plot(eigval_cumsum)"
   ]
  },
  {
   "cell_type": "code",
   "execution_count": 13,
   "metadata": {},
   "outputs": [
    {
     "name": "stdout",
     "output_type": "stream",
     "text": [
      "9 clusters\n",
      "cluster 0 size 6 \n",
      "bed, chair, couch, table, television, wardrobe,  \n",
      "cluster 1 size 11 \n",
      "bottle, bowl, can, clock, cup, keyboard, lamp, plate, rocket, skyscraper, telephone,  \n",
      "cluster 2 size 16 \n",
      "aquarium_fish, bee, beetle, butterfly, caterpillar, cockroach, crab, lizard, lobster, shark, snail, snake, spider, sunflower, trout, worm,  \n",
      "cluster 3 size 7 \n",
      "baby, bicycle, boy, chimpanzee, girl, man, woman,  \n",
      "cluster 4 size 6 \n",
      "forest, maple_tree, oak_tree, palm_tree, pine_tree, willow_tree,  \n",
      "cluster 5 size 8 \n",
      "apple, orange, orchid, pear, poppy, rose, sweet_pepper, tulip,  \n",
      "cluster 6 size 30 \n",
      "bear, beaver, camel, cattle, crocodile, dinosaur, dolphin, elephant, flatfish, fox, hamster, kangaroo, leopard, lion, mouse, mushroom, otter, porcupine, possum, rabbit, raccoon, ray, seal, shrew, skunk, squirrel, tiger, turtle, whale, wolf,  \n",
      "cluster 7 size 5 \n",
      "cloud, mountain, plain, road, sea,  \n",
      "cluster 8 size 11 \n",
      "bridge, bus, castle, house, lawn_mower, motorcycle, pickup_truck, streetcar, tank, tractor, train,  \n"
     ]
    }
   ],
   "source": [
    "'''affinity propagation clustering'''\n",
    "if 1: \n",
    "    '''9 clusters'''\n",
    "    affinity_propagation_cluster = AffinityPropagation(damping=0.75, max_iter=15000, convergence_iter=50, copy=True) \n",
    "    \n",
    "    cluster_labels = affinity_propagation_cluster.fit_predict(ftr)\n",
    "    unique_cluster_label = np.unique(cluster_labels)\n",
    "    n_cluster = unique_cluster_label.shape[0]\n",
    "    cluster_members=[None]*n_cluster\n",
    "\n",
    "    print '%d clusters' % n_cluster\n",
    "    for i in range(n_cluster):\n",
    "        idx = np.nonzero(cluster_labels == unique_cluster_label[i])[0]\n",
    "        cluster_members[i]=list(idx)\n",
    "        print 'cluster %d size %d ' % (i, len(idx))\n",
    "        for j in range(len(idx)):\n",
    "            print '%s,' % label_names[idx[j]],\n",
    "        print ' '"
   ]
  },
  {
   "cell_type": "code",
   "execution_count": 14,
   "metadata": {},
   "outputs": [],
   "source": [
    "''' compute a  histogram of the percentage of images \n",
    "that are classified as a label in the same cluster of its groundtruth label\n",
    "'''\n",
    "def plot_cluster_coverage(num_class, cluster_mbs,confusion_mat):\n",
    "    cluster_coverage=np.zeros((num_class))\n",
    "    for i in range(len(cluster_mbs)):\n",
    "        for j in range(len(cluster_mbs[i])):\n",
    "            class_id=cluster_mbs[i][j]\n",
    "            cluster_coverage[class_id]=np.sum(confusion_mat[class_id,cluster_mbs[i]])\n",
    "    n, bins, patches=plt.hist(cluster_coverage,bins=20)\n",
    "    \n",
    "def read_text(fn):\n",
    "    text=[]\n",
    "    f=open(fn)\n",
    "    for line in f:\n",
    "        text+=[line]\n",
    "    f.close()\n",
    "    return text\n",
    "\n",
    "def write_text(fn,text):\n",
    "    f=open(fn,'w')\n",
    "    f.writelines(text)\n",
    "    f.close()\n",
    "    \n",
    "def find_layer_id(lay_names,lay_name):\n",
    "    for i in range(len(lay_names)):\n",
    "        if lay_names[i]==lay_name:\n",
    "            return i\n",
    "    return -1\n",
    "\n",
    "'''replace layer names with customized names'''\n",
    "def customize_layer_name(text,lay_nams,lin_nums,insert_prefix, insert_suffix, lin_num_offset=0):\n",
    "    for i in range(len(lay_nams)):\n",
    "        lin_nums_=lin_nums[i]\n",
    "        for lin_num in lin_nums_:\n",
    "            lin_num = lin_num - lin_num_offset\n",
    "            if lin_num > len(text):\n",
    "                continue\n",
    "            id=text[lin_num].find(lay_nams[i])\n",
    "            if id<0:\n",
    "                print '%s is not found in: %s' % (lay_nams[i],text[lin_num])\n",
    "                continue\n",
    "            text[lin_num]=text[lin_num][:id]+insert_prefix+lay_nams[i]\\\n",
    "            +insert_suffix+text[lin_num][id+len(lay_nams[i]):]\n",
    "    return text\n",
    "\n",
    "def set_lr_decay_mult(text, lr_mult, decay_mult):\n",
    "    for i in range(len(text)):\n",
    "        id=text[i].find('lr_mult')\n",
    "        if id>=0:\n",
    "            text[i]=text[i][:id]+'lr_mult: %3.2f\\n'%lr_mult\n",
    "        id=text[i].find('decay_mult')\n",
    "        if id>=0:\n",
    "            text[i]=text[i][:id]+'decay_mult: %3.2f\\n'%decay_mult\n",
    "    return text\n"
   ]
  },
  {
   "cell_type": "code",
   "execution_count": 15,
   "metadata": {},
   "outputs": [
    {
     "name": "stdout",
     "output_type": "stream",
     "text": [
      "example_dir /home/zyan3/proj/caffe_private_hdcnn/examples/cifar100/\n",
      "save_dir /home/zyan3/proj/caffe_private_hdcnn/models/cifar100_NIN_float_crop_v2/9clusters/9clusters_v0.0/\n",
      "n_cluster 9\n"
     ]
    }
   ],
   "source": [
    "version ='v0.0'\n",
    "example_dir = caffe_root + 'examples/cifar100/'\n",
    "print 'example_dir',example_dir\n",
    "if not os.path.exists(example_dir): \n",
    "    os.mkdir(example_dir)\n",
    "\n",
    "save_dir = model_dir + '%dclusters/'%n_cluster \n",
    "if not os.path.exists(save_dir):\n",
    "    os.mkdir(save_dir)\n",
    "save_dir += '%dclusters_%s/'%(n_cluster,version)\n",
    "if not os.path.exists(save_dir):\n",
    "    os.mkdir(save_dir)\n",
    "print 'save_dir',save_dir\n",
    "print 'n_cluster',n_cluster"
   ]
  },
  {
   "cell_type": "code",
   "execution_count": 16,
   "metadata": {},
   "outputs": [
    {
     "name": "stdout",
     "output_type": "stream",
     "text": [
      "total_member 389\n"
     ]
    },
    {
     "data": {
      "text/plain": [
       "(array([ 1.,  0.,  2.,  1.,  0.,  0.,  1.,  0.,  0.,  0.,  2.,  0.,  0.,\n",
       "         0.,  0.,  0.,  0.,  0.,  0.,  2.]),\n",
       " array([ 17.  ,  20.15,  23.3 ,  26.45,  29.6 ,  32.75,  35.9 ,  39.05,\n",
       "         42.2 ,  45.35,  48.5 ,  51.65,  54.8 ,  57.95,  61.1 ,  64.25,\n",
       "         67.4 ,  70.55,  73.7 ,  76.85,  80.  ]),\n",
       " <a list of 20 Patch objects>)"
      ]
     },
     "execution_count": 16,
     "metadata": {},
     "output_type": "execute_result"
    },
    {
     "data": {
      "image/png": "[encoded data removed]",
      "text/plain": [
       "<matplotlib.figure.Figure at 0x7f0c6651a810>"
      ]
     },
     "metadata": {},
     "output_type": "display_data"
    }
   ],
   "source": [
    "''' Adding extra classes to each branch to compensate for coarse misclassification at gating part\n",
    "For each branch, sort all classes out of branch based on likelihood that they're misclassified into the branch\n",
    "Take the top ones and also limit the total number of classes within each branch\n",
    "'''\n",
    "\n",
    "exp_cluster_members=[None]*n_cluster\n",
    "if 1:\n",
    "    all_mb=range(num_class)\n",
    "    # for 9 clusters v0.0\n",
    "    gamma=5.0\n",
    "    score_thres=1.0/(gamma*n_cluster)\n",
    "    \n",
    "    \n",
    "    max_exp_clu_size=80\n",
    "    extra_cluster_members=[None]*n_cluster\n",
    "\n",
    "    for i in range(n_cluster):\n",
    "        non_member = np.asarray(np.setdiff1d(range(num_class),cluster_members[i]))\n",
    "    #     print non_member.shape\n",
    "        score=np.zeros((non_member.shape[0]))\n",
    "        for j in range(non_member.shape[0]):\n",
    "            idx=np.nonzero(train_val_img_labels==non_member[j])[0]\n",
    "            lc_prob=val_prob[idx,:][:,cluster_members[i]]\n",
    "            score[j]=np.mean(np.sum(lc_prob,axis=1))\n",
    "        score_sorted=np.sort(score)[::-1]\n",
    "        idx_sort=np.argsort(score)[::-1]\n",
    "        idx2=np.nonzero(score_sorted>=score_thres)[0]\n",
    "        if len(idx2)+len(cluster_members[i])> max_exp_clu_size:\n",
    "            idx2=idx2[:(max_exp_clu_size-len(cluster_members[i]))]\n",
    "        extra_cluster_members[i]=[non_member[idx_sort[id]] for id in idx2]\n",
    "        exp_cluster_members[i]=cluster_members[i]+extra_cluster_members[i]\n",
    "        assert len(exp_cluster_members[i])==np.unique(np.asarray(exp_cluster_members[i])).shape[0]\n",
    "else:\n",
    "    '''disjoint coarse category'''\n",
    "    for i in range(n_cluster):\n",
    "        exp_cluster_members[i]=cluster_members[i]\n",
    "        \n",
    "total_member=sum([len(cluster) for cluster in exp_cluster_members])\n",
    "print 'total_member %d' % total_member\n",
    "plt.hist([len(cluster) for cluster in exp_cluster_members],bins=20)"
   ]
  },
  {
   "cell_type": "code",
   "execution_count": 17,
   "metadata": {},
   "outputs": [
    {
     "data": {
      "image/png": "[encoded data removed]",
      "text/plain": [
       "<matplotlib.figure.Figure at 0x7f0c66539510>"
      ]
     },
     "metadata": {},
     "output_type": "display_data"
    }
   ],
   "source": [
    "plt.rcParams['figure.figsize'] = (5, 7)\n",
    "plt.rcParams['image.interpolation'] = 'nearest'\n",
    "plt.rcParams['image.cmap'] = 'gray'\n",
    "fine_category_occurrence=np.zeros((num_class),dtype=np.int32)\n",
    "for i, exp_cluster_member in enumerate(exp_cluster_members):\n",
    "    for j in range(len(exp_cluster_member)):\n",
    "        fine_category_occurrence[exp_cluster_member[j]]+=1\n",
    "n, bins, patches=plt.hist(fine_category_occurrence,bins=np.arange(0,np.max(fine_category_occurrence),1)+0.5,rwidth=0.7,histtype='bar')\n",
    "# plt.ylabel('fine category occurrence')\n",
    "plt.xlabel('fine category occurrences',fontsize=20)\n",
    "# plt.ylabel('count',fontsize=28)\n",
    "plt.tick_params(axis='both', which='major', labelsize=20)"
   ]
  },
  {
   "cell_type": "code",
   "execution_count": 18,
   "metadata": {},
   "outputs": [
    {
     "name": "stdout",
     "output_type": "stream",
     "text": [
      "100\n"
     ]
    }
   ],
   "source": [
    "print num_class\n",
    "fine2multicoarse=[None]*num_class\n",
    "for i in range(num_class):\n",
    "    fine2multicoarse[i]=[]\n",
    "for i in range(len(exp_cluster_members)):\n",
    "    for j in range(len(exp_cluster_members[i])):\n",
    "        fine2multicoarse[exp_cluster_members[i][j]] += [i]"
   ]
  },
  {
   "cell_type": "code",
   "execution_count": 19,
   "metadata": {},
   "outputs": [
    {
     "data": {
      "image/png": "[encoded data removed]",
      "text/plain": [
       "<matplotlib.figure.Figure at 0x7f0c665d7e50>"
      ]
     },
     "metadata": {},
     "output_type": "display_data"
    }
   ],
   "source": [
    "plot_cluster_coverage(num_class,cluster_members,confusion_mat)"
   ]
  },
  {
   "cell_type": "code",
   "execution_count": 20,
   "metadata": {},
   "outputs": [
    {
     "data": {
      "image/png": "[encoded data removed]",
      "text/plain": [
       "<matplotlib.figure.Figure at 0x7f0c659536d0>"
      ]
     },
     "metadata": {},
     "output_type": "display_data"
    }
   ],
   "source": [
    "plot_cluster_coverage(num_class,exp_cluster_members,confusion_mat)"
   ]
  },
  {
   "cell_type": "code",
   "execution_count": 22,
   "metadata": {},
   "outputs": [
    {
     "name": "stdout",
     "output_type": "stream",
     "text": [
      "cluster 0 size 6\n",
      "cluster 1 size 11\n",
      "cluster 2 size 16\n",
      "cluster 3 size 7\n",
      "cluster 4 size 6\n",
      "cluster 5 size 8\n",
      "cluster 6 size 30\n",
      "cluster 7 size 5\n",
      "cluster 8 size 11\n"
     ]
    }
   ],
   "source": [
    "label_2_clusterid = np.zeros((class_num))\n",
    "for i in range(n_cluster):\n",
    "    print 'cluster %d size %d' %(i, len(cluster_members[i]))\n",
    "    for j in range(len(cluster_members[i])):\n",
    "        label_2_clusterid[cluster_members[i][j]] = i\n",
    "\n",
    "label_2_clusterid_file = caffe_root + 'data/cifar100/label_2_clusterid_%dclusters_%s_NIN.txt' % (n_cluster,version)\n",
    "\n",
    "f=open(label_2_clusterid_file,'w')\n",
    "for i in range(class_num):\n",
    "    f.write('%d\\n' % label_2_clusterid[i])\n",
    "f.close()"
   ]
  },
  {
   "cell_type": "code",
   "execution_count": 23,
   "metadata": {},
   "outputs": [
    {
     "name": "stdout",
     "output_type": "stream",
     "text": [
      "compute softmax probabilities\n",
      "num 10000 dim 100\n",
      "10000 validation images \n"
     ]
    }
   ],
   "source": [
    "'''\n",
    "read 100-class probabilities for testing images from leveldb\n",
    "'''\n",
    "test_poolg_db = leveldb.LevelDB(caffe_root + 'examples/cifar100/cifar100_NIN_float_crop_v2_test_poolg_leveldb')\n",
    "num_test=10000\n",
    "test_prob=np.zeros((num_test,num_class))\n",
    "\n",
    "for i in range(num_test):\n",
    "    key='%d'%i\n",
    "    str_data=test_poolg_db.Get(key)\n",
    "    datum = caffe_pb2.Datum()\n",
    "    datum.ParseFromString(str_data)    \n",
    "    for j in range(num_class):\n",
    "        test_prob[i,j]=datum.float_data[j]\n",
    "test_prob=softmax(test_prob)\n",
    "test_pred_lbs=np.argmax(test_prob,axis=1)\n",
    "\n",
    "test_img_list = caffe_root + 'data/cifar100/test.txt'\n",
    "test_img_names,test_img_labels=read_val_image_list(test_img_list)"
   ]
  },
  {
   "cell_type": "code",
   "execution_count": 24,
   "metadata": {},
   "outputs": [
    {
     "name": "stdout",
     "output_type": "stream",
     "text": [
      "fine classification accuracy 0.625\n",
      "coarse classification accuracy 0.832\n"
     ]
    }
   ],
   "source": [
    "'''calculate coarse category classification accuracy when classification layer \n",
    "(FC layer) has one neuron for each fine category '''\n",
    "'''\n",
    "read 1000-class probabilities of 50K test set images\n",
    "'''\n",
    "fine_accu=sum([1 if gt==pred else 0 for (gt,pred) in zip(test_img_labels, test_pred_lbs)])/float(len(test_pred_lbs))\n",
    "coarse_accu=sum([1 if label_2_clusterid[gt]==label_2_clusterid[pred] else 0 for (gt,pred) in zip(test_img_labels,test_pred_lbs)])/float(len(test_pred_lbs))\n",
    "print 'fine classification accuracy %4.3f' % fine_accu\n",
    "print 'coarse classification accuracy %4.3f' % coarse_accu"
   ]
  },
  {
   "cell_type": "code",
   "execution_count": 25,
   "metadata": {},
   "outputs": [],
   "source": [
    "'''for each cluster, write down the labels it owns'''\n",
    "local_data_dir = 'data/cifar100/cluster_confusion_mat_%dclusters_NIN/' % (n_cluster)\n",
    "data_dir = caffe_root+local_data_dir\n",
    "if not os.path.exists(data_dir):\n",
    "    os.mkdir(data_dir)\n",
    "\n",
    "local_data_dir=local_data_dir+'%s/' % version\n",
    "data_dir=caffe_root+local_data_dir\n",
    "if not os.path.exists(data_dir):\n",
    "    os.mkdir(data_dir)\n",
    "    \n",
    "for i in range(n_cluster):\n",
    "    f = open(data_dir + 'cluster%02d_labels.txt' % i,'w')\n",
    "    for j in range(len(cluster_members[i])):\n",
    "        f.write('%d\\n' % cluster_members[i][j])\n",
    "    f.close()\n",
    "    \n",
    "'''For each expanded cluster, prepare a training set with image's label remapped '''\n",
    "for i in range(n_cluster):\n",
    "    f=open(data_dir + 'exp_cluster%02d_label_map.txt' % i,'w')\n",
    "    for j in range(len(exp_cluster_members[i])):\n",
    "        f.write('%d %d\\n' % (exp_cluster_members[i][j],j))\n",
    "    f.close()    "
   ]
  },
  {
   "cell_type": "code",
   "execution_count": 26,
   "metadata": {},
   "outputs": [
    {
     "name": "stdout",
     "output_type": "stream",
     "text": [
      "50000 validation images \n",
      "10000 validation images \n"
     ]
    }
   ],
   "source": [
    "train_img_list= caffe_root + 'data/cifar100/train.txt'\n",
    "test_img_list = caffe_root + 'data/cifar100/test.txt'\n",
    "train_img_names,train_img_labels=read_val_image_list(train_img_list)\n",
    "test_img_names,test_img_labels=read_val_image_list(test_img_list)\n",
    "train_img_labels,test_img_labels=np.asarray(train_img_labels),np.asarray(test_img_labels)"
   ]
  },
  {
   "cell_type": "code",
   "execution_count": 27,
   "metadata": {},
   "outputs": [
    {
     "name": "stdout",
     "output_type": "stream",
     "text": [
      "1 out of 9 clusters\n",
      "cluster:00. 12500 training images\n",
      "cluster:00. 2500 validation images\n",
      "2 out of 9 clusters\n",
      "cluster:01. 25500 training images\n",
      "cluster:01. 5100 validation images\n",
      "3 out of 9 clusters\n",
      "cluster:02. 40000 training images\n",
      "cluster:02. 8000 validation images\n",
      "4 out of 9 clusters\n",
      "cluster:03. 18000 training images\n",
      "cluster:03. 3600 validation images\n",
      "5 out of 9 clusters\n",
      "cluster:04. 12000 training images\n",
      "cluster:04. 2400 validation images\n",
      "6 out of 9 clusters\n",
      "cluster:05. 13500 training images\n",
      "cluster:05. 2700 validation images\n",
      "7 out of 9 clusters\n",
      "cluster:06. 40000 training images\n",
      "cluster:06. 8000 validation images\n",
      "8 out of 9 clusters\n",
      "cluster:07. 8500 training images\n",
      "cluster:07. 1700 validation images\n",
      "9 out of 9 clusters\n",
      "cluster:08. 24500 training images\n",
      "cluster:08. 4900 validation images\n"
     ]
    }
   ],
   "source": [
    "'''for each cluster, write down a selective file list'''\n",
    "for i in range(n_cluster):\n",
    "    print '%d out of %d clusters' % (i+1,n_cluster)\n",
    "    name_label_list=[]\n",
    "    f=open(data_dir+'selective_list_cluster%02d_train.txt'%i,'w')\n",
    "    for j in range(train_img_labels.shape[0]):\n",
    "        tr_img_label = train_img_labels[j]\n",
    "        count = exp_cluster_members[i].count(tr_img_label)\n",
    "        if count > 1:\n",
    "            print 'error count ',count\n",
    "        if count == 1:\n",
    "            index=exp_cluster_members[i].index(tr_img_label)\n",
    "            name_label_list += [(train_img_names[j],index)]\n",
    "#     print name_label_list[0],name_label_list[1]\n",
    "    shuffle(name_label_list)\n",
    "#     print name_label_list[0],name_label_list[1]\n",
    "    \n",
    "    for j in range(len(name_label_list)):\n",
    "        f.write('%s %d\\n'%(name_label_list[j][0],name_label_list[j][1]))\n",
    "    f.close()\n",
    "    print 'cluster:%02d. %d training images' %(i, len(name_label_list))\n",
    "    \n",
    "    \n",
    "    name_label_list=[]\n",
    "    f=open(data_dir+'selective_list_cluster%02d_test.txt'%i,'w')\n",
    "    for j in range(test_img_labels.shape[0]):\n",
    "        test_img_label=test_img_labels[j]\n",
    "        count = exp_cluster_members[i].count(test_img_label)\n",
    "        if count > 1:\n",
    "            print 'error count',count\n",
    "        if count == 1:\n",
    "            index=exp_cluster_members[i].index(test_img_label)\n",
    "            name_label_list += [(test_img_names[j],index)]\n",
    "    shuffle(name_label_list)\n",
    "    for j in range(len(name_label_list)):\n",
    "        f.write('%s %d\\n'%(name_label_list[j][0],name_label_list[j][1]))    \n",
    "    f.close()\n",
    "    print 'cluster:%02d. %d validation images' %(i, len(name_label_list))\n",
    "    "
   ]
  },
  {
   "cell_type": "code",
   "execution_count": 28,
   "metadata": {},
   "outputs": [],
   "source": [
    "net_def_fn =model_dir + 'train_test.prototxt'\n",
    "net_def = read_text(net_def_fn)"
   ]
  },
  {
   "cell_type": "code",
   "execution_count": 29,
   "metadata": {},
   "outputs": [],
   "source": [
    "lay_nams=['conv1', 'cccp1','relu1','cccp2','relu2','pool1','drop1',\n",
    "          'conv2', 'cccp3','relu3','cccp4','relu4','pool2','drop2',\n",
    "          'conv3','cccp5','relu5','cccp6','relu6','poolg']"
   ]
  },
  {
   "cell_type": "code",
   "execution_count": 30,
   "metadata": {},
   "outputs": [],
   "source": [
    "lin_nums=[]\n",
    "for lay_nam in lay_nams:\n",
    "    lin_nums_=[]\n",
    "    for i in range(len(net_def)):\n",
    "        id=net_def[i].find('\"'+lay_nam+'\"')\n",
    "        if id>=0:\n",
    "            lin_nums_+=[i]\n",
    "    lin_nums += [lin_nums_]"
   ]
  },
  {
   "cell_type": "code",
   "execution_count": 34,
   "metadata": {},
   "outputs": [],
   "source": [
    "n_kmean_cluster={}\n",
    "n_seg={}\n",
    "\n",
    "'''cifar100_NIN_float_crop_v2'''\n",
    "n_kmean_cluster['conv2']=64\n",
    "n_seg['conv2']=1200\n",
    "\n",
    "n_kmean_cluster['cccp3']=64\n",
    "n_seg['cccp3']=96\n",
    "\n",
    "n_kmean_cluster['cccp4']=64\n",
    "n_seg['cccp4']=96\n",
    "\n",
    "n_kmean_cluster['conv3']=64\n",
    "n_seg['conv3']=192*3\n",
    "\n",
    "n_kmean_cluster['cccp5']=64\n",
    "n_seg['cccp5']=96"
   ]
  },
  {
   "cell_type": "code",
   "execution_count": 40,
   "metadata": {},
   "outputs": [
    {
     "name": "stdout",
     "output_type": "stream",
     "text": [
      "share_lay_last_id:6\n",
      "cccp6_lay_id 17\n"
     ]
    }
   ],
   "source": [
    "train_source_line,test_source_line=15,35\n",
    "data_lay_rang = [0,43]\n",
    "mid_lay_rang=[data_lay_rang[1],418]\n",
    "share_lay_last_nm='drop1'\n",
    "share_lay_last_id=find_layer_id(lay_nams,share_lay_last_nm)\n",
    "cccp6_lay_id=find_layer_id(lay_nams,'cccp6')\n",
    "print 'share_lay_last_id:%d' % share_lay_last_id\n",
    "print 'cccp6_lay_id',cccp6_lay_id\n",
    "\n",
    "\n",
    "net_quantization_kmean_num_cluster_line={}\n",
    "net_quantization_kmean_num_cluster_line['conv2']=186\n",
    "net_quantization_kmean_num_cluster_line['cccp3']=221\n",
    "net_quantization_kmean_num_cluster_line['cccp4']=261\n",
    "net_quantization_kmean_num_cluster_line['conv3']=323\n",
    "net_quantization_kmean_num_cluster_line['cccp5']=358\n",
    "\n",
    "net_cccp6_num_output_line = 386"
   ]
  },
  {
   "cell_type": "code",
   "execution_count": 41,
   "metadata": {},
   "outputs": [],
   "source": [
    "'''\n",
    "two-time branch pre-training\n",
    "train a separate CNN for each cluster \n",
    "For each cluster, prepare solver/train_test/deploy prototxt \n",
    "'''\n",
    "\n",
    "\n",
    "'''9 clusters, v0.0, overlapping coarse category'''\n",
    "max_iter = [8000,15000,25000]\n",
    "\n",
    "solver_proto=['solver.prototxt',\\\n",
    "              'solver_lr1.prototxt',\\\n",
    "              'solver_lr2.prototxt']\n",
    "\n",
    "train_test_proto, deploy_proto=\\\n",
    "model_dir + 'train_test.prototxt',\\\n",
    "model_dir + 'deploy.prototxt'\n",
    "\n",
    "solver_proto_templates = [None]*len(solver_proto)\n",
    "for i in range(len(solver_proto)):\n",
    "    solver_proto_templates[i]=[]\n",
    "    f=open(model_dir + solver_proto[i],'r')\n",
    "    for line in f:\n",
    "        solver_proto_templates[i]+=[line]\n",
    "    f.close()\n",
    "\n",
    "train_test_proto_template,deploy_proto_template=[],[]\n",
    "with open(train_test_proto,'r') as f:\n",
    "    for line in f:\n",
    "        train_test_proto_template+=[line]\n",
    "\n",
    "with open(deploy_proto,'r') as f:\n",
    "    for line in f:\n",
    "        deploy_proto_template+=[line]\n",
    "    \n",
    "solver_proto_net_line,\\\n",
    "solver_proto_test_iter_line,solver_proto_max_iter_line,\\\n",
    "solver_proto_prefix_line=4,8,18,23\n",
    "\n",
    "\n",
    "for i in range(n_cluster):\n",
    "    cccp6_num_output_i = len(exp_cluster_members[i])\n",
    "    net_nm = 'cluster%02d_train_test.prototxt'%\\\n",
    "    (i)\n",
    "    deploynet_nm = 'cluster%02d_deploy.prototxt'%\\\n",
    "    (i)\n",
    "    \n",
    "    for j in range(len(solver_proto)):\n",
    "        solver_proto_ = copy.deepcopy(solver_proto_templates[j])\n",
    "        solver_proto_[solver_proto_net_line] = 'net: \"%s%s\"\\n' % (save_dir,net_nm)\n",
    "    \n",
    "        solver_proto_[solver_proto_test_iter_line] = 'test_iter: %d\\n' % len(exp_cluster_members[i])\n",
    "        solver_proto_[solver_proto_max_iter_line] = 'max_iter: %d\\n' % max_iter[j]\n",
    "        solver_proto_[solver_proto_prefix_line-1] = 'snapshot: 1000\\n'        \n",
    "        solver_proto_[solver_proto_prefix_line] = \\\n",
    "    'snapshot_prefix: \"%scluster%02d\"\\n' \\\n",
    "    % (save_dir, i)\n",
    "            \n",
    "        f=open(save_dir+'cluster%02d_%s' %(i, solver_proto[j]),'w')\n",
    "        f.writelines(solver_proto_)\n",
    "        f.close()\n",
    "    \n",
    "    train_test_proto_ = copy.deepcopy(train_test_proto_template)\n",
    "    train_test_proto_[train_source_line+3] = \\\n",
    "    '\\tselective_list: \"%sselective_list_cluster%02d_train.txt\"\\n'%(local_data_dir,i)\n",
    "    \n",
    "    train_test_proto_[test_source_line+3] = \\\n",
    "    '\\tselective_list: \"%sselective_list_cluster%02d_test.txt\"\\n'%(local_data_dir,i)\n",
    "    \n",
    "    customize_layer_name(train_test_proto_,lay_nams[share_lay_last_id+1:],lin_nums[share_lay_last_id+1:],\\\n",
    "                         'cluster%02d_'%i, '', lin_num_offset=0)\n",
    "    customize_layer_name(train_test_proto_,[lay_nams[cccp6_lay_id]],[lin_nums[cccp6_lay_id]],\\\n",
    "                         '', '_compact', lin_num_offset=0)\n",
    "    \n",
    "    train_test_proto_[:lin_nums[share_lay_last_id+1][0]-1]=\\\n",
    "    set_lr_decay_mult(train_test_proto_[:lin_nums[share_lay_last_id+1][0]-1], 0, 0)\n",
    "    train_test_proto_[net_cccp6_num_output_line] = \\\n",
    "    '\\t\\t\\t\\tnum_output: %d\\n' % cccp6_num_output_i\n",
    "    \n",
    "    for layer_name in ['conv2','cccp3','cccp4','conv3','cccp5']:\n",
    "        train_test_proto_[net_quantization_kmean_num_cluster_line[layer_name]]='\\t\\tquantization_kmean_num_cluster: %d\\n'\\\n",
    "        %(n_kmean_cluster[layer_name])\n",
    "        train_test_proto_[net_quantization_kmean_num_cluster_line[layer_name]+1]='\\t\\tquantization_num_segment: %d\\n'\\\n",
    "        %(n_seg[layer_name])        \n",
    "        train_test_proto_[net_quantization_kmean_num_cluster_line[layer_name]+2]=\\\n",
    "        '\\t\\tquantization_kmean_cluster_centers_file: \"%s%dclusters/%dclusters_%s/iter_25000/cluster%02d_%s_%d_%d_kmean_cluster_centers.binaryproto\"\\n'%\\\n",
    "        (local_model_dir,n_cluster,n_cluster, version, i,layer_name,n_kmean_cluster[layer_name],n_seg[layer_name])\n",
    "        train_test_proto_[net_quantization_kmean_num_cluster_line[layer_name]+3]=\\\n",
    "        '\\t\\tquantization_kmean_cluster_indices_file: \"%s%dclusters/%dclusters_%s/iter_25000/cluster%02d_%s_%d_%d_kmean_cluster_indices.binaryproto\"\\n'%\\\n",
    "        (local_model_dir,n_cluster,n_cluster, version, i, layer_name, n_kmean_cluster[layer_name],n_seg[layer_name])\n",
    "        train_test_proto_[net_quantization_kmean_num_cluster_line[layer_name]+5]='\\tconserve_gpu_memory_test: false\\n'\n",
    "        train_test_proto_[net_quantization_kmean_num_cluster_line[layer_name]+6]='\\tparameter_compress: false\\n'        \n",
    "    \n",
    "    with open(save_dir+net_nm,'w') as f:\n",
    "        f.writelines(train_test_proto_)\n",
    "     \n",
    "    deploy_proto_ = copy.deepcopy(deploy_proto_template)\n",
    "    customize_layer_name(deploy_proto_,lay_nams[share_lay_last_id+1:],lin_nums[share_lay_last_id+1:],\\\n",
    "                         'cluster%02d_'%i, '', lin_num_offset=0)\n",
    "    customize_layer_name(deploy_proto_,[lay_nams[cccp6_lay_id]],[lin_nums[cccp6_lay_id]],\\\n",
    "                         '', '_compact', lin_num_offset=0)     \n",
    "    deploy_proto_[net_cccp6_num_output_line] = \\\n",
    "    '\\t\\t\\t\\tnum_output: %d\\n' % cccp6_num_output_i\n",
    "    with open(save_dir+deploynet_nm,'w') as f:\n",
    "        f.writelines(deploy_proto_)"
   ]
  },
  {
   "cell_type": "code",
   "execution_count": 33,
   "metadata": {},
   "outputs": [
    {
     "name": "stdout",
     "output_type": "stream",
     "text": [
      "/home/zyan3/proj/caffe_private_hdcnn/models/cifar100_NIN_float_crop_v2/9clusters/9clusters_v0.0/hdcnn_solver.prototxt\n",
      "/home/zyan3/proj/caffe_private_hdcnn/models/cifar100_NIN_float_crop_v2/9clusters/9clusters_v0.0/hdcnn_solver_lr1.prototxt\n"
     ]
    }
   ],
   "source": [
    "'''\n",
    "prepare final HD-CNN solver prototxt files\n",
    "'''\n",
    "solver_proto=['solver.prototxt','solver_lr1.prototxt']\n",
    "\n",
    "solver_proto_output=['hdcnn_solver.prototxt','hdcnn_solver_lr1.prototxt']\n",
    "\n",
    "solver_proto_templates = [None]*len(solver_proto)\n",
    "for i in range(len(solver_proto)):\n",
    "    solver_proto_templates[i]=[]\n",
    "    with open(model_dir + solver_proto[i],'r') as f:\n",
    "        for line in f:\n",
    "            solver_proto_templates[i]+=[line]\n",
    "            \n",
    "solver_proto_net_line, solver_proto_test_iter_line, solver_proto_baselr_line, \\\n",
    "solver_proto_max_iter_line, solver_proto_prefix_line=4,8,12,18,23\n",
    "\n",
    "base_lr = [1e-3,1e-4]\n",
    "hdcnn_max_iter = [10000,20000]\n",
    "\n",
    "for j in range(len(solver_proto)):\n",
    "    solver_proto_ = copy.deepcopy(solver_proto_templates[j])\n",
    "    solver_proto_[solver_proto_net_line] = \\\n",
    "    'net: \"%shdcnn_train_test.prototxt\"\\n'\\\n",
    "    % (save_dir)\n",
    "    solver_proto_[solver_proto_test_iter_line] = \\\n",
    "    'test_iter: 200\\n'\n",
    "    \n",
    "    solver_proto_[solver_proto_baselr_line] = 'base_lr: %7.6f\\n' % base_lr[j]\n",
    "    solver_proto_[solver_proto_max_iter_line] = 'max_iter: %d\\n' % hdcnn_max_iter[j]\n",
    "    solver_proto_[solver_proto_prefix_line] = \\\n",
    "'snapshot_prefix: \"%shdcnn\"\\n' \\\n",
    "% (save_dir)\n",
    "\n",
    "\n",
    "    solver_fn=save_dir+solver_proto_output[j]\n",
    "    print solver_fn\n",
    "    with open(solver_fn,'w') as f:\n",
    "        f.writelines(solver_proto_)\n"
   ]
  },
  {
   "cell_type": "code",
   "execution_count": 36,
   "metadata": {},
   "outputs": [
    {
     "name": "stdout",
     "output_type": "stream",
     "text": [
      "write file:/home/zyan3/proj/caffe_private_hdcnn/models/cifar100_NIN_float_crop_v2/9clusters/9clusters_v0.0/hdcnn_train_test.prototxt\n"
     ]
    }
   ],
   "source": [
    "iter_num = 25000\n",
    "per_cluster_tr_batch_size = 20\n",
    "train_batch_size_lin_num, test_batch_size_lin_num = 16, 36\n",
    "\n",
    "hdcnn_def=[]\n",
    "'''write data layer part'''\n",
    "for lin_num in range(data_lay_rang[0],data_lay_rang[1]):\n",
    "    hdcnn_def += [net_def[lin_num]]\n",
    "\n",
    "hdcnn_def[train_batch_size_lin_num] = '\\tbatch_size: %d\\n' % (per_cluster_tr_batch_size * n_cluster)\n",
    "hdcnn_def[test_batch_size_lin_num] = '\\tbatch_size: 50\\n'\n",
    "\n",
    "'''write gating part'''\n",
    "for lin_num in range(mid_lay_rang[0],mid_lay_rang[1]):\n",
    "    hdcnn_def += [net_def[lin_num]]\n",
    "    \n",
    "for layer_name in ['conv2','cccp3','cccp4','conv3','cccp5']:\n",
    "    quantization_kmean_num_cluster_line=net_quantization_kmean_num_cluster_line[layer_name]\n",
    "    hdcnn_def[quantization_kmean_num_cluster_line]='\\t\\tquantization_kmean_num_cluster: %d\\n'\\\n",
    "    %(n_kmean_cluster[layer_name])\n",
    "    hdcnn_def[quantization_kmean_num_cluster_line+1]='\\t\\tquantization_num_segment: %d\\n'\\\n",
    "    %(n_seg[layer_name])        \n",
    "    hdcnn_def[quantization_kmean_num_cluster_line+2]=\\\n",
    "    '\\t\\tquantization_kmean_cluster_centers_file: \"%s%s_%d_%d_kmean_cluster_centers.binaryproto\"\\n'%\\\n",
    "    (local_model_dir,layer_name,n_kmean_cluster[layer_name],n_seg[layer_name])\n",
    "    hdcnn_def[quantization_kmean_num_cluster_line+3]=\\\n",
    "    '\\t\\tquantization_kmean_cluster_indices_file: \"%s%s_%d_%d_kmean_cluster_indices.binaryproto\"\\n'%\\\n",
    "    (local_model_dir, layer_name, n_kmean_cluster[layer_name],n_seg[layer_name])\n",
    "    hdcnn_def[quantization_kmean_num_cluster_line+5]='\\tconserve_gpu_memory_test: false\\n'\n",
    "    hdcnn_def[quantization_kmean_num_cluster_line+6]='\\tparameter_compress: false\\n'   \n",
    "        \n",
    "'''write SOFTMAX fine-classification layer in the gating part'''\n",
    "hdcnn_def +=['layer {\\n',\\\n",
    "                        '\\tname: \"fine_branch_prob\"\\n',\\\n",
    "                        '\\ttype: \"Softmax\"\\n',\\\n",
    "                        '\\tbottom: \"poolg\"\\n',\\\n",
    "                        '\\ttop: \"fine_branch_prob\"\\n',\\\n",
    "                        '}\\n']\n",
    "# '''write fine2coarse classification layer in the gating part'''\n",
    "# hdcnn_def +=['layer {\\n',\\\n",
    "#                         '\\tname: \"coarse_branch_prob\"\\n',\\\n",
    "#                         '\\ttype: \"Fine2CoarseProb\"\\n',\\\n",
    "#                         '\\tbottom: \"fine_branch_prob\"\\n',\\\n",
    "#                         '\\ttop: \"coarse_branch_prob\"\\n'\\\n",
    "#                         '\\tfine2coarse_prob_layer_param{\\n',\\\n",
    "#                         '\\t\\tnum_coarse: %d\\n' % n_cluster]\n",
    "# for i in range(label_2_clusterid.shape[0]):\n",
    "#     hdcnn_def += ['\\t\\tfine2coarse: %d\\n'%label_2_clusterid[i]]\n",
    "# hdcnn_def += ['\\t}\\n',\\\n",
    "#                          '}\\n']\n",
    "\n",
    "'''write fine2multicoarse classification layer in the gating part'''\n",
    "hdcnn_def +=['layer {\\n',\\\n",
    "                        '\\tname: \"coarse_branch_prob\"\\n',\\\n",
    "                        '\\ttype: \"Fine2MultiCoarseProb\"\\n',\\\n",
    "                        '\\tbottom: \"fine_branch_prob\"\\n',\\\n",
    "                        '\\ttop: \"coarse_branch_prob\"\\n'\\\n",
    "                        '\\tfine2multicoarse_prob_layer_param{\\n',\\\n",
    "                        '\\t\\tnum_coarse: %d\\n' % n_cluster]\n",
    "for i in range(num_class):\n",
    "    hdcnn_def += ['\\t\\tfine2multicoarse_param{\\n']\n",
    "    for j in range(len(fine2multicoarse[i])):\n",
    "        hdcnn_def+= ['\\t\\t\\tcoarse_id: %d\\n' % fine2multicoarse[i][j]]\n",
    "    hdcnn_def +=['\\t\\t}\\n']\n",
    "hdcnn_def += ['\\t}\\n',\\\n",
    "                         '}\\n']\n",
    "\n",
    "\n",
    "'''write independent layers in branching parts'''\n",
    "for i in range(n_cluster):\n",
    "    br_def=[]\n",
    "    lin_num_offset=lin_nums[share_lay_last_id+1][0]-2\n",
    "    \n",
    "    for lin_num in range(lin_nums[share_lay_last_id+1][0]-2,mid_lay_rang[1]):\n",
    "        br_def+=[net_def[lin_num]]\n",
    "\n",
    "    br_lay_nams=[lay_nams[id] for id in range(share_lay_last_id+1,len(lay_nams))]\n",
    "    br_lin_nums=[lin_nums[id] for id in range(share_lay_last_id+1,len(lay_nams))]\n",
    "    \n",
    "    customize_layer_name(br_def,br_lay_nams,br_lin_nums,'cluster%02d_'%i,\\\n",
    "                                '',lin_num_offset)\n",
    "    customize_layer_name(br_def,[lay_nams[cccp6_lay_id]],[lin_nums[cccp6_lay_id]],'',\\\n",
    "                                '_compact',lin_num_offset)\n",
    "    br_def[net_cccp6_num_output_line-br_lin_nums[0][0]+2]='\\t\\tnum_output: %d\\n' % len(exp_cluster_members[i])\n",
    "\n",
    "\n",
    "    br_def += ['layer {\\n',\\\n",
    "              '\\tname: \"cluster%02d_prob_compact\"\\n'%i,\\\n",
    "              '\\ttype: \"Softmax\"\\n',\\\n",
    "              '\\tbottom: \"cluster%02d_poolg\"\\n'%i,\\\n",
    "              '\\ttop: \"cluster%02d_prob_compact\"\\n'%i,\\\n",
    "              '}\\n']\n",
    "    \n",
    "    for layer_name in ['conv2','cccp3','cccp4','conv3','cccp5']:\n",
    "        quantization_kmean_num_cluster_line=net_quantization_kmean_num_cluster_line[layer_name]-lin_num_offset\n",
    "        br_def[quantization_kmean_num_cluster_line]='\\t\\tquantization_kmean_num_cluster: %d\\n'\\\n",
    "        %(n_kmean_cluster[layer_name])\n",
    "        br_def[quantization_kmean_num_cluster_line+1]='\\t\\tquantization_num_segment: %d\\n'\\\n",
    "        %(n_seg[layer_name])        \n",
    "        br_def[quantization_kmean_num_cluster_line+2]=\\\n",
    "        '\\t\\tquantization_kmean_cluster_centers_file: \"%s%dclusters/%dclusters_%s/iter_%d/cluster%02d_%s_%d_%d_kmean_cluster_centers.binaryproto\"\\n'%\\\n",
    "        (local_model_dir,n_cluster,n_cluster, version, iter_num, i,layer_name,n_kmean_cluster[layer_name],n_seg[layer_name])\n",
    "        br_def[quantization_kmean_num_cluster_line+3]=\\\n",
    "        '\\t\\tquantization_kmean_cluster_indices_file: \"%s%dclusters/%dclusters_%s/iter_%d/cluster%02d_%s_%d_%d_kmean_cluster_indices.binaryproto\"\\n'%\\\n",
    "        (local_model_dir,n_cluster,n_cluster, version, iter_num, i, layer_name, n_kmean_cluster[layer_name],n_seg[layer_name])\n",
    "        br_def[quantization_kmean_num_cluster_line+5]='\\tconserve_gpu_memory_test: false\\n'\n",
    "        br_def[quantization_kmean_num_cluster_line+6]='\\tparameter_compress: false\\n'        \n",
    "    \n",
    "\n",
    "    for br_def_lin in br_def:\n",
    "        hdcnn_def += [br_def_lin]\n",
    "\n",
    "hdcnn_def += ['layer {\\n',\\\n",
    "                        '\\tname: \"compact_probabilistic_average_prob\"\\n',\\\n",
    "                        '\\ttype: \"CompactProbabilisticAverageProb\"\\n']\n",
    "for i in range(n_cluster):\n",
    "    hdcnn_def+= ['\\tbottom: \"cluster%02d_prob_compact\"\\n'%i]\n",
    "hdcnn_def+=['\\tbottom: \"coarse_branch_prob\"\\n',\\\n",
    "                       '\\ttop: \"compact_probabilistic_average_prob\"\\n',\\\n",
    "                       '\\tcompact_probabilistic_average_prob_layer_param{\\n',\\\n",
    "                       '\\t\\tnum_class:%d\\n'%num_class]\n",
    "for i in range(n_cluster):\n",
    "    hdcnn_def+=['\\t\\tcompact_classify_layer_param{\\n']\n",
    "    for j in range(len(exp_cluster_members[i])):\n",
    "        hdcnn_def+=['\\t\\t\\tclass_id:%d\\n'%exp_cluster_members[i][j]]\n",
    "    hdcnn_def+=['\\t\\t}\\n']\n",
    "hdcnn_def+=['\\t}\\n',\\\n",
    "                       '}\\n']\n",
    "\n",
    "hdcnn_def += ['layer {\\n',\\\n",
    "                        '\\tname: \"loss\"\\n',\\\n",
    "                        '\\ttype: \"MultinomialLogisticSparsityLoss\"\\n',\\\n",
    "                        '\\tbottom: \"compact_probabilistic_average_prob\"\\n',\\\n",
    "                        '\\tbottom: \"label\"\\n',\\\n",
    "                        '\\tbottom: \"coarse_branch_prob\"\\n',\\\n",
    "                        '\\ttop: \"loss\"\\n',\\\n",
    "                        '\\tmultinomial_logistic_sparsity_loss_param{\\n',\n",
    "                        '\\t\\tsparsity_lamda: 5\\n']\n",
    "\n",
    "for i in range(n_cluster):\n",
    "    hdcnn_def += ['\\t\\ttarget_sparsity: %4.3f\\n'% (float(len(exp_cluster_members[i])) / float(total_member))]\n",
    "\n",
    "hdcnn_def+=['\\t}\\n',\\\n",
    "                      '}\\n']\n",
    "hdcnn_def+=['layer {\\n',\\\n",
    "                       '\\tname: \"accuracy\"\\n',\\\n",
    "                       '\\ttype: \"Accuracy\"\\n',\\\n",
    "                       '\\tbottom: \"compact_probabilistic_average_prob\"\\n',\\\n",
    "                       '\\tbottom: \"label\"\\n',\\\n",
    "                       '\\ttop: \"accuracy\"\\n',\\\n",
    "                       '\\tinclude {\\n',\\\n",
    "                       '\\t\\tphase: TEST\\n',\\\n",
    "                       '\\t}\\n',\\\n",
    "                       '}\\n']\n",
    "\n",
    "hdcnn_def_fn=save_dir+'hdcnn_train_test.prototxt'\n",
    "print 'write file:%s'%hdcnn_def_fn\n",
    "f=open(hdcnn_def_fn,'w')\n",
    "for ln in hdcnn_def:\n",
    "    f.write(ln)\n",
    "f.close()"
   ]
  },
  {
   "cell_type": "code",
   "execution_count": 38,
   "metadata": {},
   "outputs": [
    {
     "name": "stdout",
     "output_type": "stream",
     "text": [
      "script: /home/zyan3/proj/caffe_private_hdcnn/examples/cifar100/finetune_hdcnn_from_NIN_float_crop_v2_9clusters_v0.0.sh\n"
     ]
    }
   ],
   "source": [
    "'''write shell script for finetuning HD-CNN'''\n",
    "\n",
    "script_fn=example_dir+'finetune_hdcnn_from_NIN_float_crop_v2_%dclusters_%s.sh'%(n_cluster,version)\n",
    "print 'script: %s' % script_fn \n",
    "with open(script_fn,'w') as f:\n",
    "    f.write('#!/bin/bash\\n')\n",
    "    f.write('TOOLS=build/tools\\n')\n",
    "    f.write('GLOG_logtostderr=1 $TOOLS/finetune_net_match --match_mode=EXACT_MATCH \\\\\\n')\n",
    "    f.write('\\t--solver=%s%s \\\\\\n'%(save_dir, solver_proto_output[0]))\n",
    "    f.write('\\t%scifar100_NIN_float_crop_v2_iter_130000.caffemodel \\\\\\n' % model_dir)\n",
    "    for i in range(n_cluster):\n",
    "        f.write('\\t%scluster%02d_iter_25000.caffemodel \\\\\\n'%(save_dir,i))\n",
    "\n",
    "    f.write('\\n')"
   ]
  }
 ],
 "metadata": {
  "kernelspec": {
   "display_name": "Python 3",
   "language": "python",
   "name": "python3"
  },
  "language_info": {
   "codemirror_mode": {
    "name": "ipython",
    "version": 3
   },
   "file_extension": ".py",
   "mimetype": "text/x-python",
   "name": "python",
   "nbconvert_exporter": "python",
   "pygments_lexer": "ipython3",
   "version": "3.6.5"
  }
 },
 "nbformat": 4,
 "nbformat_minor": 1
}

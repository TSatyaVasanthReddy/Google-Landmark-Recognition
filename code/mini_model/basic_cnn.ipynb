{
 "cells": [
  {
   "cell_type": "code",
   "execution_count": 6,
   "metadata": {},
   "outputs": [],
   "source": [
    "from __future__ import print_function\n",
    "import keras\n",
    "from keras.datasets import mnist\n",
    "from keras.layers import Dense, Flatten\n",
    "from keras.layers import Conv2D, MaxPooling2D\n",
    "from keras.models import Sequential\n",
    "from keras.preprocessing.image import ImageDataGenerator, array_to_img, img_to_array, load_img\n",
    "\n",
    "import matplotlib.pylab as plt"
   ]
  },
  {
   "cell_type": "code",
   "execution_count": 70,
   "metadata": {},
   "outputs": [],
   "source": [
    "batch_size = 3\n",
    "num_classes = 5\n",
    "epochs = 10\n",
    "imsize = 128"
   ]
  },
  {
   "cell_type": "code",
   "execution_count": 71,
   "metadata": {},
   "outputs": [
    {
     "name": "stdout",
     "output_type": "stream",
     "text": [
      "(128, 128, 3)\n"
     ]
    }
   ],
   "source": [
    "# input image dimensions\n",
    "img_x, img_y = imsize, imsize\n",
    "input_shape = (img_x, img_y,3)\n",
    "print(input_shape)"
   ]
  },
  {
   "cell_type": "code",
   "execution_count": 72,
   "metadata": {},
   "outputs": [
    {
     "name": "stdout",
     "output_type": "stream",
     "text": [
      "Found 74 images belonging to 5 classes.\n",
      "Found 15 images belonging to 5 classes.\n"
     ]
    }
   ],
   "source": [
    "train_datagen = ImageDataGenerator(rescale=1./255)\n",
    "test_datagen = ImageDataGenerator(rescale=1./255)\n",
    "train_generator = train_datagen.flow_from_directory(\n",
    "        'data/train',\n",
    "        target_size=(imsize, imsize),\n",
    "        batch_size=batch_size,\n",
    "        class_mode='categorical')\n",
    "validation_generator = test_datagen.flow_from_directory(\n",
    "        'data/validation',\n",
    "        target_size=(imsize, imsize),\n",
    "        batch_size=batch_size,\n",
    "        class_mode='categorical')"
   ]
  },
  {
   "cell_type": "code",
   "execution_count": 73,
   "metadata": {},
   "outputs": [],
   "source": [
    "model = Sequential()\n",
    "\n",
    "model.add(Conv2D(32, kernel_size=(5, 5), strides=(1, 1),\n",
    "                 activation='relu',\n",
    "                 input_shape=input_shape))\n",
    "model.add(MaxPooling2D(pool_size=(2, 2), strides=(2, 2)))\n",
    "model.add(Conv2D(64, (5, 5), activation='relu'))\n",
    "model.add(MaxPooling2D(pool_size=(2, 2)))\n",
    "model.add(Flatten())\n",
    "model.add(Dense(100, activation='relu'))\n",
    "model.add(Dense(num_classes, activation='softmax'))\n"
   ]
  },
  {
   "cell_type": "code",
   "execution_count": 74,
   "metadata": {},
   "outputs": [],
   "source": [
    "model.compile(loss=keras.losses.categorical_crossentropy,\n",
    "              optimizer=keras.optimizers.SGD(lr=0.01),\n",
    "              metrics=['accuracy'])"
   ]
  },
  {
   "cell_type": "code",
   "execution_count": 75,
   "metadata": {},
   "outputs": [],
   "source": [
    "class AccuracyHistory(keras.callbacks.Callback):\n",
    "    def on_train_begin(self, logs={}):\n",
    "        self.acc = []\n",
    "\n",
    "    def on_epoch_end(self, batch, logs={}):\n",
    "        self.acc.append(logs.get('acc'))\n",
    "\n",
    "#history = AccuracyHistory()\n"
   ]
  },
  {
   "cell_type": "code",
   "execution_count": 76,
   "metadata": {},
   "outputs": [
    {
     "name": "stdout",
     "output_type": "stream",
     "text": [
      "_________________________________________________________________\n",
      "Layer (type)                 Output Shape              Param #   \n",
      "=================================================================\n",
      "conv2d_17 (Conv2D)           (None, 124, 124, 32)      2432      \n",
      "_________________________________________________________________\n",
      "max_pooling2d_15 (MaxPooling (None, 62, 62, 32)        0         \n",
      "_________________________________________________________________\n",
      "conv2d_18 (Conv2D)           (None, 58, 58, 64)        51264     \n",
      "_________________________________________________________________\n",
      "max_pooling2d_16 (MaxPooling (None, 29, 29, 64)        0         \n",
      "_________________________________________________________________\n",
      "flatten_8 (Flatten)          (None, 53824)             0         \n",
      "_________________________________________________________________\n",
      "dense_15 (Dense)             (None, 100)               5382500   \n",
      "_________________________________________________________________\n",
      "dense_16 (Dense)             (None, 5)                 505       \n",
      "=================================================================\n",
      "Total params: 5,436,701\n",
      "Trainable params: 5,436,701\n",
      "Non-trainable params: 0\n",
      "_________________________________________________________________\n"
     ]
    }
   ],
   "source": [
    "model.summary()"
   ]
  },
  {
   "cell_type": "code",
   "execution_count": 77,
   "metadata": {},
   "outputs": [
    {
     "name": "stdout",
     "output_type": "stream",
     "text": [
      "Epoch 1/10\n",
      "25/25 [==============================] - 12s 475ms/step - loss: 1.6273 - acc: 0.2668 - val_loss: 1.5288 - val_acc: 0.4667\n",
      "Epoch 2/10\n",
      "25/25 [==============================] - 5s 208ms/step - loss: 1.4760 - acc: 0.4002 - val_loss: 1.5061 - val_acc: 0.2000\n",
      "Epoch 3/10\n",
      "25/25 [==============================] - 5s 202ms/step - loss: 1.4567 - acc: 0.4333 - val_loss: 1.2082 - val_acc: 0.6000\n",
      "Epoch 4/10\n",
      "25/25 [==============================] - 6s 221ms/step - loss: 1.3407 - acc: 0.4936 - val_loss: 1.0589 - val_acc: 0.6000\n",
      "Epoch 5/10\n",
      "25/25 [==============================] - 6s 226ms/step - loss: 1.1455 - acc: 0.4733 - val_loss: 0.6107 - val_acc: 0.8667\n",
      "Epoch 6/10\n",
      "25/25 [==============================] - 6s 223ms/step - loss: 1.0375 - acc: 0.6067 - val_loss: 0.9204 - val_acc: 0.6667\n",
      "Epoch 7/10\n",
      "25/25 [==============================] - 5s 219ms/step - loss: 0.8769 - acc: 0.6265 - val_loss: 0.4949 - val_acc: 0.8000\n",
      "Epoch 8/10\n",
      "25/25 [==============================] - 5s 209ms/step - loss: 0.7111 - acc: 0.7065 - val_loss: 0.3366 - val_acc: 0.8667\n",
      "Epoch 9/10\n",
      "25/25 [==============================] - 5s 213ms/step - loss: 0.4059 - acc: 0.8666 - val_loss: 0.3573 - val_acc: 0.8000\n",
      "Epoch 10/10\n",
      "25/25 [==============================] - 6s 229ms/step - loss: 0.3479 - acc: 0.9333 - val_loss: 0.0634 - val_acc: 1.0000\n"
     ]
    },
    {
     "data": {
      "text/plain": [
       "<keras.callbacks.History at 0xb1d3cefd0>"
      ]
     },
     "execution_count": 77,
     "metadata": {},
     "output_type": "execute_result"
    }
   ],
   "source": [
    "model.fit_generator(train_generator,\n",
    "          epochs=epochs,\n",
    "          verbose=1,\n",
    "          validation_data=validation_generator,\n",
    "          )"
   ]
  },
  {
   "cell_type": "code",
   "execution_count": null,
   "metadata": {},
   "outputs": [],
   "source": []
  }
 ],
 "metadata": {
  "kernelspec": {
   "display_name": "Python 3",
   "language": "python",
   "name": "python3"
  },
  "language_info": {
   "codemirror_mode": {
    "name": "ipython",
    "version": 3
   },
   "file_extension": ".py",
   "mimetype": "text/x-python",
   "name": "python",
   "nbconvert_exporter": "python",
   "pygments_lexer": "ipython3",
   "version": "3.5.5"
  }
 },
 "nbformat": 4,
 "nbformat_minor": 2
}

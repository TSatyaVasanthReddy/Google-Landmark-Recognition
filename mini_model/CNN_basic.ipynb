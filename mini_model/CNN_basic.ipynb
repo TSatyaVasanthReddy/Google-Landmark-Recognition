{
 "cells": [
  {
   "cell_type": "code",
   "execution_count": 1,
   "metadata": {},
   "outputs": [
    {
     "name": "stderr",
     "output_type": "stream",
     "text": [
      "C:\\Users\\Devanshi\\AppData\\Local\\conda\\conda\\envs\\tensorflow\\lib\\site-packages\\h5py\\__init__.py:36: FutureWarning: Conversion of the second argument of issubdtype from `float` to `np.floating` is deprecated. In future, it will be treated as `np.float64 == np.dtype(float).type`.\n",
      "  from ._conv import register_converters as _register_converters\n",
      "Using TensorFlow backend.\n"
     ]
    }
   ],
   "source": [
    "from __future__ import print_function\n",
    "import keras\n",
    "from keras.datasets import mnist\n",
    "from keras.layers import Dense, Flatten\n",
    "from keras.layers import Conv2D, MaxPooling2D\n",
    "from keras.models import Sequential\n",
    "from keras.preprocessing.image import ImageDataGenerator, array_to_img, img_to_array, load_img\n",
    "import matplotlib.pylab as plt\n",
    "import csv\n",
    "import numpy as np\n",
    "import pandas as pd\n",
    "import matplotlib.pyplot as plt\n",
    "import scipy.linalg\n",
    "from sklearn.cluster import k_means\n",
    "from sklearn.cluster import *\n",
    "from imutils import paths\n",
    "import random\n",
    "import cv2\n",
    "import os\n",
    "from sklearn.model_selection import train_test_split\n",
    "from keras.utils import to_categorical\n",
    "from sklearn import preprocessing\n"
   ]
  },
  {
   "cell_type": "code",
   "execution_count": 165,
   "metadata": {
    "collapsed": true
   },
   "outputs": [],
   "source": [
    "batch_size = 3\n",
    "num_classes = 5\n",
    "epochs = 10\n",
    "imsize = 128"
   ]
  },
  {
   "cell_type": "code",
   "execution_count": 215,
   "metadata": {},
   "outputs": [
    {
     "name": "stdout",
     "output_type": "stream",
     "text": [
      "(128, 128, 3)\n"
     ]
    }
   ],
   "source": [
    "# input image dimensions\n",
    "img_x, img_y = imsize, imsize\n",
    "input_shape = (img_x, img_y,3)\n",
    "print(input_shape)"
   ]
  },
  {
   "cell_type": "code",
   "execution_count": 197,
   "metadata": {},
   "outputs": [
    {
     "name": "stdout",
     "output_type": "stream",
     "text": [
      "[INFO] loading images...\n"
     ]
    }
   ],
   "source": [
    "print(\"[INFO] loading images...\")\n",
    "\n",
    "# grab the image paths and randomly shuffle them\n",
    "imagePaths = sorted(list(paths.list_images('data/train')))\n",
    "random.seed(42)\n",
    "random.shuffle(imagePaths)\n",
    "\n",
    "# loop over the input images\n",
    "labels = []\n",
    "data = []\n",
    "for imagePath in imagePaths:\n",
    "    # load the image, pre-process it, and store it in the data list\n",
    "    image = cv2.imread(imagePath)\n",
    "    image = cv2.resize(image, (128, 128))\n",
    "    image = img_to_array(image)\n",
    "    data.append(image)\n",
    " \n",
    "    # extract the class label from the image path and update the\n",
    "    # labels list\n",
    "    label = imagePath.split(os.path.sep)[-2]\n",
    "    labels.append(label)\n",
    "\n",
    "# scale the raw pixel intensities to the range [0, 1]\n",
    "data = np.array(data, dtype=\"float\") / 255.0\n",
    "labels = np.array(labels)\n",
    "# partition the data into training and testing splits using 75% of\n",
    "# the data for training and the remaining 25% for testing\n",
    "(trainX, testX, trainY, testY) = train_test_split(data,\n",
    "    labels, test_size=0.25, random_state=42)\n",
    " "
   ]
  },
  {
   "cell_type": "code",
   "execution_count": 219,
   "metadata": {},
   "outputs": [],
   "source": [
    "le = preprocessing.LabelEncoder()\n",
    "le.fit(labels)\n",
    "trainY1 = to_categorical(le.transform(trainY).flatten())\n",
    "testY1 = to_categorical(le.transform(testY).flatten())"
   ]
  },
  {
   "cell_type": "code",
   "execution_count": 169,
   "metadata": {
    "collapsed": true
   },
   "outputs": [],
   "source": [
    "model = Sequential()\n",
    "\n",
    "model.add(Conv2D(32, kernel_size=(5, 5), strides=(1, 1),\n",
    "                 activation='relu',\n",
    "                 input_shape=input_shape))\n",
    "model.add(MaxPooling2D(pool_size=(2, 2), strides=(2, 2)))\n",
    "model.add(Conv2D(64, (5, 5), activation='relu'))\n",
    "model.add(MaxPooling2D(pool_size=(2, 2)))\n",
    "model.add(Flatten())\n",
    "model.add(Dense(100, activation='relu'))\n",
    "model.add(Dense(num_classes, activation='softmax'))\n"
   ]
  },
  {
   "cell_type": "code",
   "execution_count": 170,
   "metadata": {
    "collapsed": true
   },
   "outputs": [],
   "source": [
    "model.compile(loss=keras.losses.categorical_crossentropy,\n",
    "              optimizer=keras.optimizers.SGD(lr=0.01),\n",
    "              metrics=['accuracy'])"
   ]
  },
  {
   "cell_type": "code",
   "execution_count": 171,
   "metadata": {},
   "outputs": [
    {
     "name": "stdout",
     "output_type": "stream",
     "text": [
      "_________________________________________________________________\n",
      "Layer (type)                 Output Shape              Param #   \n",
      "=================================================================\n",
      "conv2d_5 (Conv2D)            (None, 124, 124, 32)      2432      \n",
      "_________________________________________________________________\n",
      "max_pooling2d_5 (MaxPooling2 (None, 62, 62, 32)        0         \n",
      "_________________________________________________________________\n",
      "conv2d_6 (Conv2D)            (None, 58, 58, 64)        51264     \n",
      "_________________________________________________________________\n",
      "max_pooling2d_6 (MaxPooling2 (None, 29, 29, 64)        0         \n",
      "_________________________________________________________________\n",
      "flatten_3 (Flatten)          (None, 53824)             0         \n",
      "_________________________________________________________________\n",
      "dense_5 (Dense)              (None, 100)               5382500   \n",
      "_________________________________________________________________\n",
      "dense_6 (Dense)              (None, 5)                 505       \n",
      "=================================================================\n",
      "Total params: 5,436,701\n",
      "Trainable params: 5,436,701\n",
      "Non-trainable params: 0\n",
      "_________________________________________________________________\n"
     ]
    }
   ],
   "source": [
    "model.summary()"
   ]
  },
  {
   "cell_type": "code",
   "execution_count": 220,
   "metadata": {},
   "outputs": [
    {
     "name": "stdout",
     "output_type": "stream",
     "text": [
      "Train on 44 samples, validate on 15 samples\n",
      "Epoch 1/10\n",
      "44/44 [==============================] - 6s 137ms/step - loss: 1.6382 - acc: 0.2500 - val_loss: 1.4943 - val_acc: 0.4667\n",
      "Epoch 2/10\n",
      "44/44 [==============================] - 5s 116ms/step - loss: 1.5426 - acc: 0.2955 - val_loss: 1.5500 - val_acc: 0.0667\n",
      "Epoch 3/10\n",
      "44/44 [==============================] - 5s 113ms/step - loss: 1.4765 - acc: 0.3864 - val_loss: 1.3493 - val_acc: 0.7333\n",
      "Epoch 4/10\n",
      "44/44 [==============================] - 5s 106ms/step - loss: 1.4220 - acc: 0.5455 - val_loss: 1.4098 - val_acc: 0.4667\n",
      "Epoch 5/10\n",
      "44/44 [==============================] - 5s 113ms/step - loss: 1.1452 - acc: 0.5909 - val_loss: 1.2444 - val_acc: 0.6667\n",
      "Epoch 6/10\n",
      "44/44 [==============================] - 5s 116ms/step - loss: 1.2450 - acc: 0.5227 - val_loss: 1.0704 - val_acc: 0.6000\n",
      "Epoch 7/10\n",
      "44/44 [==============================] - 5s 113ms/step - loss: 0.9366 - acc: 0.7273 - val_loss: 1.1952 - val_acc: 0.2667\n",
      "Epoch 8/10\n",
      "44/44 [==============================] - 5s 112ms/step - loss: 0.9469 - acc: 0.6591 - val_loss: 1.5129 - val_acc: 0.4000\n",
      "Epoch 9/10\n",
      "44/44 [==============================] - 5s 110ms/step - loss: 1.0001 - acc: 0.6364 - val_loss: 2.7722 - val_acc: 0.0667\n",
      "Epoch 10/10\n",
      "44/44 [==============================] - 5s 114ms/step - loss: 1.0286 - acc: 0.6364 - val_loss: 0.8578 - val_acc: 0.6000\n"
     ]
    },
    {
     "data": {
      "text/plain": [
       "<keras.callbacks.History at 0x2e354bebeb8>"
      ]
     },
     "execution_count": 220,
     "metadata": {},
     "output_type": "execute_result"
    }
   ],
   "source": [
    "model.fit(trainX, trainY1,batch_size=3,validation_data=(testX,testY1), epochs=epochs,verbose=1)"
   ]
  },
  {
   "cell_type": "code",
   "execution_count": 221,
   "metadata": {},
   "outputs": [
    {
     "data": {
      "text/plain": [
       "array(['260', '140', '7', '12', '12', '12', '7', '7', '140', '12', '12',\n",
       "       '7', '140', '260', '140', '260', '110', '140', '7', '110', '140',\n",
       "       '12', '260', '140', '7', '140', '110', '7', '140', '7', '12',\n",
       "       '140', '260', '140', '12', '260', '260', '140', '7', '12', '7',\n",
       "       '7', '110', '140', '260', '12', '140', '7', '260', '12', '7', '12',\n",
       "       '12', '12', '12', '7', '110', '12', '260'], dtype='<U3')"
      ]
     },
     "execution_count": 221,
     "metadata": {},
     "output_type": "execute_result"
    }
   ],
   "source": [
    "y = train_generator.classes"
   ]
  },
  {
   "cell_type": "code",
   "execution_count": 38,
   "metadata": {
    "collapsed": true
   },
   "outputs": [],
   "source": [
    "yp = model.predict_generator(train_generator)"
   ]
  },
  {
   "cell_type": "code",
   "execution_count": 39,
   "metadata": {
    "collapsed": true
   },
   "outputs": [],
   "source": [
    "import numpy as np"
   ]
  },
  {
   "cell_type": "code",
   "execution_count": 40,
   "metadata": {},
   "outputs": [],
   "source": [
    "yp = [np.argmax(x) for x in yp]"
   ]
  },
  {
   "cell_type": "code",
   "execution_count": 43,
   "metadata": {
    "collapsed": true
   },
   "outputs": [],
   "source": [
    "import pandas as pd"
   ]
  },
  {
   "cell_type": "code",
   "execution_count": 44,
   "metadata": {
    "collapsed": true
   },
   "outputs": [],
   "source": [
    "df = pd.DataFrame([y,yp])\n",
    "df = df.transpose()\n",
    "df.columns =['t','p']"
   ]
  },
  {
   "cell_type": "code",
   "execution_count": 26,
   "metadata": {
    "collapsed": true
   },
   "outputs": [],
   "source": [
    "def softmax(ftr):\n",
    "    print('compute softmax probabilities')\n",
    "    num, dim = ftr.shape[0], ftr.shape[1]\n",
    "    print('num %d dim %d' % (num, dim))\n",
    "    prob = np.zeros((num, dim), dtype=np.single)\n",
    "    for i in range(num):\n",
    "        max_val = np.max(ftr[i, :])\n",
    "        row = ftr[i, :] - max_val\n",
    "        exp_val = np.exp(row)\n",
    "        prob[i, :] = exp_val / np.sum(exp_val)\n",
    "    return prob "
   ]
  },
  {
   "cell_type": "code",
   "execution_count": 46,
   "metadata": {
    "collapsed": true
   },
   "outputs": [],
   "source": [
    "num_classes = 5\n",
    "num_values = 59\n",
    "root = 'C:/Users/Devanshi/Documents/CS259/Google-Landmark-Recognition-master/mini_model/'\n",
    "\n",
    "conf_mat = np.zeros((num_classes,num_classes))\n"
   ]
  },
  {
   "cell_type": "code",
   "execution_count": 47,
   "metadata": {},
   "outputs": [
    {
     "name": "stdout",
     "output_type": "stream",
     "text": [
      "compute softmax probabilities\n",
      "num 59 dim 5\n",
      "[[0.2071486  0.21429096 0.17784174 0.2071486  0.1935701 ]\n",
      " [0.2071486  0.21429096 0.17784174 0.2071486  0.1935701 ]\n",
      " [0.2071486  0.21429096 0.17784174 0.2071486  0.1935701 ]\n",
      " [0.2071486  0.21429096 0.17784174 0.2071486  0.1935701 ]\n",
      " [0.2071486  0.21429096 0.17784174 0.2071486  0.1935701 ]\n",
      " [0.2071486  0.21429096 0.17784174 0.2071486  0.1935701 ]\n",
      " [0.2071486  0.21429096 0.17784174 0.2071486  0.1935701 ]\n",
      " [0.2071486  0.21429096 0.17784174 0.2071486  0.1935701 ]\n",
      " [0.2071486  0.21429096 0.17784174 0.2071486  0.1935701 ]\n",
      " [0.2071486  0.21429096 0.17784174 0.2071486  0.1935701 ]\n",
      " [0.2071486  0.21429096 0.17784174 0.2071486  0.1935701 ]\n",
      " [0.2071486  0.21429096 0.17784174 0.2071486  0.1935701 ]\n",
      " [0.2071486  0.21429096 0.17784174 0.2071486  0.1935701 ]\n",
      " [0.2071486  0.21429096 0.17784174 0.2071486  0.1935701 ]\n",
      " [0.2071486  0.21429096 0.17784174 0.2071486  0.1935701 ]\n",
      " [0.2071486  0.21429096 0.17784174 0.2071486  0.1935701 ]\n",
      " [0.2071486  0.21429096 0.17784174 0.2071486  0.1935701 ]\n",
      " [0.2071486  0.21429096 0.17784174 0.2071486  0.1935701 ]\n",
      " [0.2071486  0.21429096 0.17784174 0.2071486  0.1935701 ]\n",
      " [0.2071486  0.21429096 0.17784174 0.2071486  0.1935701 ]\n",
      " [0.2071486  0.21429096 0.17784174 0.2071486  0.1935701 ]\n",
      " [0.2071486  0.21429096 0.17784174 0.2071486  0.1935701 ]\n",
      " [0.2071486  0.21429096 0.17784174 0.2071486  0.1935701 ]\n",
      " [0.2071486  0.21429096 0.17784174 0.2071486  0.1935701 ]\n",
      " [0.2071486  0.21429096 0.17784174 0.2071486  0.1935701 ]\n",
      " [0.2071486  0.21429096 0.17784174 0.2071486  0.1935701 ]\n",
      " [0.2071486  0.21429096 0.17784174 0.2071486  0.1935701 ]\n",
      " [0.2071486  0.21429096 0.17784174 0.2071486  0.1935701 ]\n",
      " [0.2071486  0.21429096 0.17784174 0.2071486  0.1935701 ]\n",
      " [0.2071486  0.21429096 0.17784174 0.2071486  0.1935701 ]\n",
      " [0.2071486  0.21429096 0.17784174 0.2071486  0.1935701 ]\n",
      " [0.2071486  0.21429096 0.17784174 0.2071486  0.1935701 ]\n",
      " [0.2071486  0.21429096 0.17784174 0.2071486  0.1935701 ]\n",
      " [0.2071486  0.21429096 0.17784174 0.2071486  0.1935701 ]\n",
      " [0.2071486  0.21429096 0.17784174 0.2071486  0.1935701 ]\n",
      " [0.2071486  0.21429096 0.17784174 0.2071486  0.1935701 ]\n",
      " [0.2071486  0.21429096 0.17784174 0.2071486  0.1935701 ]\n",
      " [0.2071486  0.21429096 0.17784174 0.2071486  0.1935701 ]\n",
      " [0.2071486  0.21429096 0.17784174 0.2071486  0.1935701 ]\n",
      " [0.2071486  0.21429096 0.17784174 0.2071486  0.1935701 ]\n",
      " [0.2071486  0.21429096 0.17784174 0.2071486  0.1935701 ]\n",
      " [0.2071486  0.21429096 0.17784174 0.2071486  0.1935701 ]\n",
      " [0.2071486  0.21429096 0.17784174 0.2071486  0.1935701 ]\n",
      " [0.2071486  0.21429096 0.17784174 0.2071486  0.1935701 ]\n",
      " [0.2071486  0.21429096 0.17784174 0.2071486  0.1935701 ]\n",
      " [0.2071486  0.21429096 0.17784174 0.2071486  0.1935701 ]\n",
      " [0.2071486  0.21429096 0.17784174 0.2071486  0.1935701 ]\n",
      " [0.2071486  0.21429096 0.17784174 0.2071486  0.1935701 ]\n",
      " [0.2071486  0.21429096 0.17784174 0.2071486  0.1935701 ]\n",
      " [0.2071486  0.21429096 0.17784174 0.2071486  0.1935701 ]\n",
      " [0.2071486  0.21429096 0.17784174 0.2071486  0.1935701 ]\n",
      " [0.2071486  0.21429096 0.17784174 0.2071486  0.1935701 ]\n",
      " [0.2071486  0.21429096 0.17784174 0.2071486  0.1935701 ]\n",
      " [0.2071486  0.21429096 0.17784174 0.2071486  0.1935701 ]\n",
      " [0.2071486  0.21429096 0.17784174 0.2071486  0.1935701 ]\n",
      " [0.2071486  0.21429096 0.17784174 0.2071486  0.1935701 ]\n",
      " [0.2071486  0.21429096 0.17784174 0.2071486  0.1935701 ]\n",
      " [0.2071486  0.21429096 0.17784174 0.2071486  0.1935701 ]\n",
      " [0.2071486  0.21429096 0.17784174 0.2071486  0.1935701 ]]\n"
     ]
    }
   ],
   "source": [
    "'''\n",
    "Hardcoding 100-class probabilities for validation images .\n",
    "'''\n",
    "class_prob = [14/59,16/59,5/59,14/59,10/59]\n",
    "\n",
    "\n",
    "val_prob = np.zeros((num_values,num_classes))\n",
    "\n",
    "for i in range(num_values):\n",
    "    for j in range(num_classes):\n",
    "        \n",
    "        val_prob[i][j]=class_prob[j]\n",
    "val_prob=softmax(val_prob)\n",
    "print(val_prob)\n"
   ]
  },
  {
   "cell_type": "code",
   "execution_count": 48,
   "metadata": {},
   "outputs": [],
   "source": [
    "for i in range(df.shape[0]):\n",
    "    t = df.loc[i]['t']\n",
    "    p = df.loc[i]['p']\n",
    "    #print(conf_mat)\n",
    "    conf_mat[t][p] =     conf_mat[t][p] +1\n",
    "    #print(conf_mat)\n",
    "for i in range(num_classes):\n",
    "    conf_mat[i] = conf_mat[i]/sum(conf_mat[i])\n"
   ]
  },
  {
   "cell_type": "code",
   "execution_count": 224,
   "metadata": {},
   "outputs": [
    {
     "data": {
      "text/html": [
       "<div>\n",
       "<style scoped>\n",
       "    .dataframe tbody tr th:only-of-type {\n",
       "        vertical-align: middle;\n",
       "    }\n",
       "\n",
       "    .dataframe tbody tr th {\n",
       "        vertical-align: top;\n",
       "    }\n",
       "\n",
       "    .dataframe thead th {\n",
       "        text-align: right;\n",
       "    }\n",
       "</style>\n",
       "<table border=\"1\" class=\"dataframe\">\n",
       "  <thead>\n",
       "    <tr style=\"text-align: right;\">\n",
       "      <th></th>\n",
       "      <th>t</th>\n",
       "      <th>p</th>\n",
       "    </tr>\n",
       "  </thead>\n",
       "  <tbody>\n",
       "    <tr>\n",
       "      <th>0</th>\n",
       "      <td>0</td>\n",
       "      <td>2</td>\n",
       "    </tr>\n",
       "    <tr>\n",
       "      <th>1</th>\n",
       "      <td>0</td>\n",
       "      <td>1</td>\n",
       "    </tr>\n",
       "    <tr>\n",
       "      <th>2</th>\n",
       "      <td>0</td>\n",
       "      <td>1</td>\n",
       "    </tr>\n",
       "    <tr>\n",
       "      <th>3</th>\n",
       "      <td>0</td>\n",
       "      <td>4</td>\n",
       "    </tr>\n",
       "    <tr>\n",
       "      <th>4</th>\n",
       "      <td>0</td>\n",
       "      <td>0</td>\n",
       "    </tr>\n",
       "    <tr>\n",
       "      <th>5</th>\n",
       "      <td>1</td>\n",
       "      <td>1</td>\n",
       "    </tr>\n",
       "    <tr>\n",
       "      <th>6</th>\n",
       "      <td>1</td>\n",
       "      <td>4</td>\n",
       "    </tr>\n",
       "    <tr>\n",
       "      <th>7</th>\n",
       "      <td>1</td>\n",
       "      <td>4</td>\n",
       "    </tr>\n",
       "    <tr>\n",
       "      <th>8</th>\n",
       "      <td>1</td>\n",
       "      <td>2</td>\n",
       "    </tr>\n",
       "    <tr>\n",
       "      <th>9</th>\n",
       "      <td>1</td>\n",
       "      <td>2</td>\n",
       "    </tr>\n",
       "    <tr>\n",
       "      <th>10</th>\n",
       "      <td>1</td>\n",
       "      <td>4</td>\n",
       "    </tr>\n",
       "    <tr>\n",
       "      <th>11</th>\n",
       "      <td>1</td>\n",
       "      <td>2</td>\n",
       "    </tr>\n",
       "    <tr>\n",
       "      <th>12</th>\n",
       "      <td>1</td>\n",
       "      <td>0</td>\n",
       "    </tr>\n",
       "    <tr>\n",
       "      <th>13</th>\n",
       "      <td>1</td>\n",
       "      <td>4</td>\n",
       "    </tr>\n",
       "    <tr>\n",
       "      <th>14</th>\n",
       "      <td>1</td>\n",
       "      <td>1</td>\n",
       "    </tr>\n",
       "    <tr>\n",
       "      <th>15</th>\n",
       "      <td>1</td>\n",
       "      <td>0</td>\n",
       "    </tr>\n",
       "    <tr>\n",
       "      <th>16</th>\n",
       "      <td>1</td>\n",
       "      <td>2</td>\n",
       "    </tr>\n",
       "    <tr>\n",
       "      <th>17</th>\n",
       "      <td>1</td>\n",
       "      <td>1</td>\n",
       "    </tr>\n",
       "    <tr>\n",
       "      <th>18</th>\n",
       "      <td>1</td>\n",
       "      <td>1</td>\n",
       "    </tr>\n",
       "    <tr>\n",
       "      <th>19</th>\n",
       "      <td>1</td>\n",
       "      <td>4</td>\n",
       "    </tr>\n",
       "    <tr>\n",
       "      <th>20</th>\n",
       "      <td>1</td>\n",
       "      <td>4</td>\n",
       "    </tr>\n",
       "    <tr>\n",
       "      <th>21</th>\n",
       "      <td>2</td>\n",
       "      <td>0</td>\n",
       "    </tr>\n",
       "    <tr>\n",
       "      <th>22</th>\n",
       "      <td>2</td>\n",
       "      <td>1</td>\n",
       "    </tr>\n",
       "    <tr>\n",
       "      <th>23</th>\n",
       "      <td>2</td>\n",
       "      <td>2</td>\n",
       "    </tr>\n",
       "    <tr>\n",
       "      <th>24</th>\n",
       "      <td>2</td>\n",
       "      <td>0</td>\n",
       "    </tr>\n",
       "    <tr>\n",
       "      <th>25</th>\n",
       "      <td>2</td>\n",
       "      <td>4</td>\n",
       "    </tr>\n",
       "    <tr>\n",
       "      <th>26</th>\n",
       "      <td>2</td>\n",
       "      <td>4</td>\n",
       "    </tr>\n",
       "    <tr>\n",
       "      <th>27</th>\n",
       "      <td>2</td>\n",
       "      <td>4</td>\n",
       "    </tr>\n",
       "    <tr>\n",
       "      <th>28</th>\n",
       "      <td>2</td>\n",
       "      <td>1</td>\n",
       "    </tr>\n",
       "    <tr>\n",
       "      <th>29</th>\n",
       "      <td>2</td>\n",
       "      <td>0</td>\n",
       "    </tr>\n",
       "    <tr>\n",
       "      <th>30</th>\n",
       "      <td>2</td>\n",
       "      <td>1</td>\n",
       "    </tr>\n",
       "    <tr>\n",
       "      <th>31</th>\n",
       "      <td>2</td>\n",
       "      <td>2</td>\n",
       "    </tr>\n",
       "    <tr>\n",
       "      <th>32</th>\n",
       "      <td>2</td>\n",
       "      <td>4</td>\n",
       "    </tr>\n",
       "    <tr>\n",
       "      <th>33</th>\n",
       "      <td>2</td>\n",
       "      <td>4</td>\n",
       "    </tr>\n",
       "    <tr>\n",
       "      <th>34</th>\n",
       "      <td>2</td>\n",
       "      <td>2</td>\n",
       "    </tr>\n",
       "    <tr>\n",
       "      <th>35</th>\n",
       "      <td>3</td>\n",
       "      <td>2</td>\n",
       "    </tr>\n",
       "    <tr>\n",
       "      <th>36</th>\n",
       "      <td>3</td>\n",
       "      <td>2</td>\n",
       "    </tr>\n",
       "    <tr>\n",
       "      <th>37</th>\n",
       "      <td>3</td>\n",
       "      <td>4</td>\n",
       "    </tr>\n",
       "    <tr>\n",
       "      <th>38</th>\n",
       "      <td>3</td>\n",
       "      <td>0</td>\n",
       "    </tr>\n",
       "    <tr>\n",
       "      <th>39</th>\n",
       "      <td>3</td>\n",
       "      <td>3</td>\n",
       "    </tr>\n",
       "    <tr>\n",
       "      <th>40</th>\n",
       "      <td>3</td>\n",
       "      <td>1</td>\n",
       "    </tr>\n",
       "    <tr>\n",
       "      <th>41</th>\n",
       "      <td>3</td>\n",
       "      <td>1</td>\n",
       "    </tr>\n",
       "    <tr>\n",
       "      <th>42</th>\n",
       "      <td>3</td>\n",
       "      <td>2</td>\n",
       "    </tr>\n",
       "    <tr>\n",
       "      <th>43</th>\n",
       "      <td>3</td>\n",
       "      <td>0</td>\n",
       "    </tr>\n",
       "    <tr>\n",
       "      <th>44</th>\n",
       "      <td>3</td>\n",
       "      <td>4</td>\n",
       "    </tr>\n",
       "    <tr>\n",
       "      <th>45</th>\n",
       "      <td>4</td>\n",
       "      <td>1</td>\n",
       "    </tr>\n",
       "    <tr>\n",
       "      <th>46</th>\n",
       "      <td>4</td>\n",
       "      <td>4</td>\n",
       "    </tr>\n",
       "    <tr>\n",
       "      <th>47</th>\n",
       "      <td>4</td>\n",
       "      <td>1</td>\n",
       "    </tr>\n",
       "    <tr>\n",
       "      <th>48</th>\n",
       "      <td>4</td>\n",
       "      <td>4</td>\n",
       "    </tr>\n",
       "    <tr>\n",
       "      <th>49</th>\n",
       "      <td>4</td>\n",
       "      <td>1</td>\n",
       "    </tr>\n",
       "    <tr>\n",
       "      <th>50</th>\n",
       "      <td>4</td>\n",
       "      <td>0</td>\n",
       "    </tr>\n",
       "    <tr>\n",
       "      <th>51</th>\n",
       "      <td>4</td>\n",
       "      <td>4</td>\n",
       "    </tr>\n",
       "    <tr>\n",
       "      <th>52</th>\n",
       "      <td>4</td>\n",
       "      <td>1</td>\n",
       "    </tr>\n",
       "    <tr>\n",
       "      <th>53</th>\n",
       "      <td>4</td>\n",
       "      <td>0</td>\n",
       "    </tr>\n",
       "    <tr>\n",
       "      <th>54</th>\n",
       "      <td>4</td>\n",
       "      <td>4</td>\n",
       "    </tr>\n",
       "    <tr>\n",
       "      <th>55</th>\n",
       "      <td>4</td>\n",
       "      <td>0</td>\n",
       "    </tr>\n",
       "    <tr>\n",
       "      <th>56</th>\n",
       "      <td>4</td>\n",
       "      <td>1</td>\n",
       "    </tr>\n",
       "    <tr>\n",
       "      <th>57</th>\n",
       "      <td>4</td>\n",
       "      <td>2</td>\n",
       "    </tr>\n",
       "    <tr>\n",
       "      <th>58</th>\n",
       "      <td>4</td>\n",
       "      <td>1</td>\n",
       "    </tr>\n",
       "  </tbody>\n",
       "</table>\n",
       "</div>"
      ],
      "text/plain": [
       "    t  p\n",
       "0   0  2\n",
       "1   0  1\n",
       "2   0  1\n",
       "3   0  4\n",
       "4   0  0\n",
       "5   1  1\n",
       "6   1  4\n",
       "7   1  4\n",
       "8   1  2\n",
       "9   1  2\n",
       "10  1  4\n",
       "11  1  2\n",
       "12  1  0\n",
       "13  1  4\n",
       "14  1  1\n",
       "15  1  0\n",
       "16  1  2\n",
       "17  1  1\n",
       "18  1  1\n",
       "19  1  4\n",
       "20  1  4\n",
       "21  2  0\n",
       "22  2  1\n",
       "23  2  2\n",
       "24  2  0\n",
       "25  2  4\n",
       "26  2  4\n",
       "27  2  4\n",
       "28  2  1\n",
       "29  2  0\n",
       "30  2  1\n",
       "31  2  2\n",
       "32  2  4\n",
       "33  2  4\n",
       "34  2  2\n",
       "35  3  2\n",
       "36  3  2\n",
       "37  3  4\n",
       "38  3  0\n",
       "39  3  3\n",
       "40  3  1\n",
       "41  3  1\n",
       "42  3  2\n",
       "43  3  0\n",
       "44  3  4\n",
       "45  4  1\n",
       "46  4  4\n",
       "47  4  1\n",
       "48  4  4\n",
       "49  4  1\n",
       "50  4  0\n",
       "51  4  4\n",
       "52  4  1\n",
       "53  4  0\n",
       "54  4  4\n",
       "55  4  0\n",
       "56  4  1\n",
       "57  4  2\n",
       "58  4  1"
      ]
     },
     "execution_count": 224,
     "metadata": {},
     "output_type": "execute_result"
    }
   ],
   "source": [
    "df"
   ]
  },
  {
   "cell_type": "code",
   "execution_count": 50,
   "metadata": {},
   "outputs": [
    {
     "name": "stdout",
     "output_type": "stream",
     "text": [
      "[[0.2        0.4        0.2        0.         0.2       ]\n",
      " [0.125      0.25       0.25       0.         0.375     ]\n",
      " [0.21428571 0.21428571 0.21428571 0.         0.35714286]\n",
      " [0.2        0.2        0.3        0.1        0.2       ]\n",
      " [0.21428571 0.42857143 0.07142857 0.         0.28571429]]\n"
     ]
    },
    {
     "data": {
      "text/plain": [
       "<matplotlib.image.AxesImage at 0x2e35781ec18>"
      ]
     },
     "execution_count": 50,
     "metadata": {},
     "output_type": "execute_result"
    },
    {
     "data": {
      "image/png": "[encoded data removed]",
      "text/plain": [
       "<Figure size 432x288 with 1 Axes>"
      ]
     },
     "metadata": {},
     "output_type": "display_data"
    }
   ],
   "source": [
    "print(conf_mat)\n",
    "plt.imshow(conf_mat)"
   ]
  },
  {
   "cell_type": "code",
   "execution_count": 51,
   "metadata": {},
   "outputs": [
    {
     "data": {
      "text/plain": [
       "<matplotlib.image.AxesImage at 0x2e357845da0>"
      ]
     },
     "execution_count": 51,
     "metadata": {},
     "output_type": "execute_result"
    },
    {
     "data": {
      "image/png": "[encoded data removed]",
      "text/plain": [
       "<Figure size 432x288 with 1 Axes>"
      ]
     },
     "metadata": {},
     "output_type": "display_data"
    }
   ],
   "source": [
    "dist_mat = 1 - conf_mat\n",
    "dist_mat[range(num_classes),range(num_classes)]=0\n",
    "dist_mat = 0.5 * (dist_mat + dist_mat.T)\n",
    "plt.figure()\n",
    "plt.title('distance matrix on validation set')\n",
    "plt.imshow(dist_mat)"
   ]
  },
  {
   "cell_type": "code",
   "execution_count": 56,
   "metadata": {},
   "outputs": [
    {
     "name": "stdout",
     "output_type": "stream",
     "text": [
      "[-0.4472136 -0.4472136 -0.4472136 -0.4472136 -0.4472136]\n"
     ]
    },
    {
     "data": {
      "text/plain": [
       "[<matplotlib.lines.Line2D at 0x2e35855f5c0>]"
      ]
     },
     "execution_count": 56,
     "metadata": {},
     "output_type": "execute_result"
    },
    {
     "data": {
      "image/png": "[encoded data removed]",
      "text/plain": [
       "<Figure size 432x288 with 1 Axes>"
      ]
     },
     "metadata": {},
     "output_type": "display_data"
    }
   ],
   "source": [
    "'''Laplacian eigenmap dimensionality reduction\n",
    "construct adjacency graph W (symmetric) using k-NN'''\n",
    "W=np.zeros((num_classes,num_classes))\n",
    "\n",
    "k_nn, t, dim = 2, 0.9, 4\n",
    "\n",
    "for i in range(num_classes):\n",
    "    idx=np.argsort(dist_mat[i,:])[1:k_nn+1]\n",
    "    W[i,idx]=np.exp(-dist_mat[i,idx] / t)\n",
    "    W[idx,i]=W[i,idx]\n",
    "D=np.zeros(W.shape)\n",
    "for i in range(num_classes):\n",
    "    D[i,i]=np.sum(W[i,:])\n",
    "L=D-W\n",
    "eig_val,eig_vec=scipy.linalg.eig(L,D)\n",
    "ftr=eig_vec[:,1:dim+1]\n",
    "print(eig_vec[:,0]) # the 1st eigenvector should be all ones\n",
    "eigval_cumsum = np.cumsum(np.real(eig_val))\n",
    "plt.plot(eigval_cumsum)"
   ]
  },
  {
   "cell_type": "code",
   "execution_count": 57,
   "metadata": {},
   "outputs": [
    {
     "name": "stdout",
     "output_type": "stream",
     "text": [
      "3 clusters\n"
     ]
    }
   ],
   "source": [
    "affinity_propagation_cluster = AffinityPropagation(damping=0.75, max_iter=15000, convergence_iter=50, copy=True) \n",
    "cluster_labels = affinity_propagation_cluster.fit_predict(ftr)\n",
    "unique_cluster_label = np.unique(cluster_labels)\n",
    "n_cluster = unique_cluster_label.shape[0]\n",
    "cluster_members=[None]*n_cluster\n",
    "print ('%d clusters' % n_cluster)"
   ]
  },
  {
   "cell_type": "code",
   "execution_count": 59,
   "metadata": {},
   "outputs": [
    {
     "name": "stdout",
     "output_type": "stream",
     "text": [
      "cluster 0 size 3 \n",
      "0,\n",
      "1,\n",
      "2,\n",
      " \n",
      "cluster 1 size 1 \n",
      "3,\n",
      " \n",
      "cluster 2 size 1 \n",
      "4,\n",
      " \n",
      "[[0, 1, 2], [3], [4]]\n"
     ]
    }
   ],
   "source": [
    "label_names=range(5)\n",
    "for i in range(n_cluster):\n",
    "    idx = np.nonzero(cluster_labels == unique_cluster_label[i])[0]\n",
    "    cluster_members[i]=list(idx)\n",
    "    print ('cluster %d size %d ' % (i, len(idx)))\n",
    "    for j in range(len(idx)):\n",
    "        print ('%s,' % label_names[idx[j]],)\n",
    "    print (' ')\n",
    "print(cluster_members)"
   ]
  },
  {
   "cell_type": "code",
   "execution_count": 63,
   "metadata": {
    "collapsed": true
   },
   "outputs": [],
   "source": [
    "# The number of coarse categories\n",
    "coarse_categories = n_cluster\n",
    "\n",
    "# The number of fine categories\n",
    "fine_categories = num_classes"
   ]
  },
  {
   "cell_type": "code",
   "execution_count": 64,
   "metadata": {},
   "outputs": [
    {
     "data": {
      "text/plain": [
       "3"
      ]
     },
     "execution_count": 64,
     "metadata": {},
     "output_type": "execute_result"
    }
   ],
   "source": [
    "coarse_categories"
   ]
  },
  {
   "cell_type": "code",
   "execution_count": 65,
   "metadata": {},
   "outputs": [
    {
     "data": {
      "text/plain": [
       "5"
      ]
     },
     "execution_count": 65,
     "metadata": {},
     "output_type": "execute_result"
    }
   ],
   "source": [
    "fine_categories"
   ]
  },
  {
   "cell_type": "code",
   "execution_count": 66,
   "metadata": {
    "collapsed": true
   },
   "outputs": [],
   "source": [
    "fine2coarse = np.zeros((fine_categories,coarse_categories))\n",
    "for i in range(coarse_categories):\n",
    "    for j in cluster_members[i]:\n",
    "        fine2coarse[j,i] = 1"
   ]
  },
  {
   "cell_type": "code",
   "execution_count": 67,
   "metadata": {},
   "outputs": [
    {
     "data": {
      "text/plain": [
       "array([[1., 0., 0.],\n",
       "       [1., 0., 0.],\n",
       "       [1., 0., 0.],\n",
       "       [0., 1., 0.],\n",
       "       [0., 0., 1.]])"
      ]
     },
     "execution_count": 67,
     "metadata": {},
     "output_type": "execute_result"
    }
   ],
   "source": [
    "fine2coarse"
   ]
  },
  {
   "cell_type": "code",
   "execution_count": 116,
   "metadata": {},
   "outputs": [
    {
     "data": {
      "text/plain": [
       "59"
      ]
     },
     "execution_count": 116,
     "metadata": {},
     "output_type": "execute_result"
    }
   ],
   "source": [
    "len(data)"
   ]
  },
  {
   "cell_type": "code",
   "execution_count": 117,
   "metadata": {},
   "outputs": [
    {
     "data": {
      "text/plain": [
       "59"
      ]
     },
     "execution_count": 117,
     "metadata": {},
     "output_type": "execute_result"
    }
   ],
   "source": [
    "len(labels)"
   ]
  },
  {
   "cell_type": "code",
   "execution_count": 107,
   "metadata": {},
   "outputs": [
    {
     "data": {
      "text/plain": [
       "list"
      ]
     },
     "execution_count": 107,
     "metadata": {},
     "output_type": "execute_result"
    }
   ],
   "source": [
    "type(labels)"
   ]
  },
  {
   "cell_type": "code",
   "execution_count": 119,
   "metadata": {},
   "outputs": [
    {
     "data": {
      "text/plain": [
       "array(['140', '7', '12', '12', '110', '12', '7', '260', '7', '260', '12',\n",
       "       '7', '110', '110', '7', '140', '110', '7', '7', '260', '12', '7',\n",
       "       '140', '7', '140', '140', '12', '7', '140', '12', '260', '140',\n",
       "       '260', '12', '260', '7', '260', '140', '7', '110', '140', '140',\n",
       "       '12', '7'], dtype='<U3')"
      ]
     },
     "execution_count": 119,
     "metadata": {},
     "output_type": "execute_result"
    }
   ],
   "source": [
    "trainY"
   ]
  },
  {
   "cell_type": "code",
   "execution_count": null,
   "metadata": {
    "collapsed": true
   },
   "outputs": [],
   "source": []
  }
 ],
 "metadata": {
  "kernelspec": {
   "display_name": "Tensorflow",
   "language": "python",
   "name": "other-env"
  },
  "language_info": {
   "codemirror_mode": {
    "name": "ipython",
    "version": 3
   },
   "file_extension": ".py",
   "mimetype": "text/x-python",
   "name": "python",
   "nbconvert_exporter": "python",
   "pygments_lexer": "ipython3",
   "version": "3.5.4"
  }
 },
 "nbformat": 4,
 "nbformat_minor": 2
}

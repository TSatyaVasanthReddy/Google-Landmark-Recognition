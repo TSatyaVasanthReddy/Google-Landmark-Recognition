{
 "cells": [
  {
   "cell_type": "code",
   "execution_count": 1,
   "metadata": {},
   "outputs": [],
   "source": [
    "import csv\n",
    "import numpy as np\n",
    "import pandas as pd\n",
    "import matplotlib.pyplot as plt\n",
    "import scipy.linalg\n",
    "from sklearn.cluster import k_means\n",
    "from sklearn.cluster import *\n"
   ]
  },
  {
   "cell_type": "code",
   "execution_count": 2,
   "metadata": {},
   "outputs": [],
   "source": [
    "df = pd.DataFrame(columns=('name', 't', 'p'))"
   ]
  },
  {
   "cell_type": "code",
   "execution_count": 119,
   "metadata": {},
   "outputs": [],
   "source": [
    "df.loc[0] = ['im1',1,2]\n",
    "df.loc[1] = ['im2',1,1]\n",
    "df.loc[2] = ['im3',1,1]\n",
    "df.loc[3] = ['im4',2,1]\n",
    "df.loc[4] = ['im5',2,1]\n",
    "df.loc[5] = ['im6',2,2]\n",
    "df.loc[6] = ['im7',0,3]\n",
    "df.loc[7] = ['im8',0,0]\n",
    "df.loc[8] = ['im9',2,2]\n",
    "df.loc[9] = ['im10',2,2]\n",
    "df.loc[10] = ['im11',2,2]\n",
    "\n",
    "df.loc[11] = ['im12',3,0]\n",
    "df.loc[12] = ['im13',3,0]\n",
    "df.loc[13] = ['im14',3,3]\n",
    "df.loc[14] = ['im15',3,3]\n",
    "df.loc[15] = ['im16',3,3]\n",
    "\n"
   ]
  },
  {
   "cell_type": "code",
   "execution_count": 120,
   "metadata": {},
   "outputs": [],
   "source": [
    "def softmax(ftr):\n",
    "    print('compute softmax probabilities')\n",
    "    num, dim = ftr.shape[0], ftr.shape[1]\n",
    "    print('num %d dim %d' % (num, dim))\n",
    "    prob = np.zeros((num, dim), dtype=np.single)\n",
    "    for i in range(num):\n",
    "        max_val = np.max(ftr[i, :])\n",
    "        row = ftr[i, :] - max_val\n",
    "        exp_val = np.exp(row)\n",
    "        prob[i, :] = exp_val / np.sum(exp_val)\n",
    "    return prob "
   ]
  },
  {
   "cell_type": "code",
   "execution_count": 121,
   "metadata": {},
   "outputs": [],
   "source": [
    "num_classes = 4\n",
    "num_values = 16\n",
    "root = '/Users/shreya/Desktop/UCLA/Google-Landmark-Recognition'\n",
    "\n",
    "conf_mat = np.zeros((num_classes,num_classes))\n"
   ]
  },
  {
   "cell_type": "code",
   "execution_count": 122,
   "metadata": {},
   "outputs": [
    {
     "data": {
      "text/plain": [
       "0.0"
      ]
     },
     "execution_count": 122,
     "metadata": {},
     "output_type": "execute_result"
    }
   ],
   "source": [
    "conf_mat[0][0]"
   ]
  },
  {
   "cell_type": "code",
   "execution_count": 123,
   "metadata": {},
   "outputs": [
    {
     "name": "stdout",
     "output_type": "stream",
     "text": [
      "compute softmax probabilities\n",
      "num 16 dim 4\n",
      "[[0.2213773  0.23663884 0.28903133 0.25295252]\n",
      " [0.2213773  0.23663884 0.28903133 0.25295252]\n",
      " [0.2213773  0.23663884 0.28903133 0.25295252]\n",
      " [0.2213773  0.23663884 0.28903133 0.25295252]\n",
      " [0.2213773  0.23663884 0.28903133 0.25295252]\n",
      " [0.2213773  0.23663884 0.28903133 0.25295252]\n",
      " [0.2213773  0.23663884 0.28903133 0.25295252]\n",
      " [0.2213773  0.23663884 0.28903133 0.25295252]\n",
      " [0.2213773  0.23663884 0.28903133 0.25295252]\n",
      " [0.2213773  0.23663884 0.28903133 0.25295252]\n",
      " [0.2213773  0.23663884 0.28903133 0.25295252]\n",
      " [0.2213773  0.23663884 0.28903133 0.25295252]\n",
      " [0.2213773  0.23663884 0.28903133 0.25295252]\n",
      " [0.2213773  0.23663884 0.28903133 0.25295252]\n",
      " [0.2213773  0.23663884 0.28903133 0.25295252]\n",
      " [0.2213773  0.23663884 0.28903133 0.25295252]]\n"
     ]
    }
   ],
   "source": [
    "'''\n",
    "Hardcoding 100-class probabilities for validation images .\n",
    "'''\n",
    "class_prob = [2/15,3/15,6/15,4/15]\n",
    "\n",
    "\n",
    "\n",
    "val_prob = np.zeros((num_values,num_classes))\n",
    "\n",
    "for i in range(num_values):\n",
    "    for j in range(num_classes):\n",
    "        \n",
    "        val_prob[i][j]=class_prob[j]\n",
    "val_prob=softmax(val_prob)\n",
    "print(val_prob)\n",
    "\n"
   ]
  },
  {
   "cell_type": "code",
   "execution_count": 124,
   "metadata": {},
   "outputs": [],
   "source": [
    "for i in range(df.count()['name']):\n",
    "    t = df.loc[i]['t']\n",
    "    p = df.loc[i]['p']\n",
    "    #print(conf_mat)\n",
    "    conf_mat[t][p] =     conf_mat[t][p] +1\n",
    "    #print(conf_mat)\n",
    "for i in range(num_classes):\n",
    "    conf_mat[i] = conf_mat[i]/sum(conf_mat[i])\n"
   ]
  },
  {
   "cell_type": "code",
   "execution_count": 125,
   "metadata": {},
   "outputs": [
    {
     "name": "stdout",
     "output_type": "stream",
     "text": [
      "[[0.5        0.         0.         0.5       ]\n",
      " [0.         0.66666667 0.33333333 0.        ]\n",
      " [0.         0.33333333 0.66666667 0.        ]\n",
      " [0.4        0.         0.         0.6       ]]\n"
     ]
    },
    {
     "data": {
      "text/plain": [
       "<matplotlib.image.AxesImage at 0x1153fc6d8>"
      ]
     },
     "execution_count": 125,
     "metadata": {},
     "output_type": "execute_result"
    },
    {
     "data": {
      "image/png": "[encoded data removed]",
      "text/plain": [
       "<matplotlib.figure.Figure at 0x1153e09e8>"
      ]
     },
     "metadata": {},
     "output_type": "display_data"
    }
   ],
   "source": [
    "print(conf_mat)\n",
    "plt.imshow(conf_mat)"
   ]
  },
  {
   "cell_type": "code",
   "execution_count": null,
   "metadata": {},
   "outputs": [],
   "source": []
  },
  {
   "cell_type": "code",
   "execution_count": 126,
   "metadata": {},
   "outputs": [
    {
     "data": {
      "text/plain": [
       "<matplotlib.image.AxesImage at 0x1148ecc88>"
      ]
     },
     "execution_count": 126,
     "metadata": {},
     "output_type": "execute_result"
    },
    {
     "data": {
      "image/png": "[encoded data removed]",
      "text/plain": [
       "<matplotlib.figure.Figure at 0x114b00630>"
      ]
     },
     "metadata": {},
     "output_type": "display_data"
    }
   ],
   "source": [
    "dist_mat = 1 - conf_mat\n",
    "dist_mat[range(num_classes),range(num_classes)]=0\n",
    "dist_mat = 0.5 * (dist_mat + dist_mat.T)\n",
    "plt.figure()\n",
    "plt.title('distance matrix on validation set')\n",
    "plt.imshow(dist_mat)"
   ]
  },
  {
   "cell_type": "code",
   "execution_count": 127,
   "metadata": {},
   "outputs": [
    {
     "data": {
      "text/plain": [
       "<matplotlib.image.AxesImage at 0x114c87630>"
      ]
     },
     "execution_count": 127,
     "metadata": {},
     "output_type": "execute_result"
    },
    {
     "data": {
      "image/png": "[encoded data removed]",
      "text/plain": [
       "<matplotlib.figure.Figure at 0x114b00208>"
      ]
     },
     "metadata": {},
     "output_type": "display_data"
    }
   ],
   "source": [
    "I = np.identity(num_classes)\n",
    "dist_mat = I - conf_mat\n",
    "dist_mat[range(num_classes),range(num_classes)]=0\n",
    "dist_mat = 0.5 * (dist_mat + dist_mat.T)\n",
    "plt.figure()\n",
    "plt.title('distance matrix on validation set')\n",
    "plt.imshow(dist_mat)"
   ]
  },
  {
   "cell_type": "code",
   "execution_count": 128,
   "metadata": {},
   "outputs": [
    {
     "name": "stdout",
     "output_type": "stream",
     "text": [
      "[0.5 0.5 0.5 0.5]\n"
     ]
    },
    {
     "data": {
      "text/plain": [
       "[<matplotlib.lines.Line2D at 0x114f12198>]"
      ]
     },
     "execution_count": 128,
     "metadata": {},
     "output_type": "execute_result"
    },
    {
     "data": {
      "image/png": "[encoded data removed]",
      "text/plain": [
       "<matplotlib.figure.Figure at 0x114f352e8>"
      ]
     },
     "metadata": {},
     "output_type": "display_data"
    }
   ],
   "source": [
    "W=np.zeros((num_classes,num_classes))\n",
    "\n",
    "k_nn, t, dim = 2, 0.9, 4\n",
    "\n",
    "for i in range(num_classes):\n",
    "    idx=np.argsort(dist_mat[i,:])[1:k_nn+1]\n",
    "    W[i,idx]=np.exp(-dist_mat[i,idx] / t)\n",
    "    W[idx,i]=W[i,idx]\n",
    "D=np.zeros(W.shape)\n",
    "for i in range(num_classes):\n",
    "    D[i,i]=np.sum(W[i,:])\n",
    "L=D-W\n",
    "eig_val,eig_vec=scipy.linalg.eig(L,D)\n",
    "ftr=eig_vec[:,1:dim+1]\n",
    "print(eig_vec[:,0]) # the 1st eigenvector should be all ones\n",
    "eigval_cumsum = np.cumsum(np.real(eig_val))\n",
    "plt.plot(eigval_cumsum)"
   ]
  },
  {
   "cell_type": "code",
   "execution_count": 129,
   "metadata": {},
   "outputs": [
    {
     "name": "stdout",
     "output_type": "stream",
     "text": [
      "2 clusters\n"
     ]
    }
   ],
   "source": [
    "affinity_propagation_cluster = AffinityPropagation(damping=0.75, max_iter=15000, convergence_iter=50, copy=True) \n",
    "cluster_labels = affinity_propagation_cluster.fit_predict(ftr)\n",
    "unique_cluster_label = np.unique(cluster_labels)\n",
    "n_cluster = unique_cluster_label.shape[0]\n",
    "cluster_members=[None]*n_cluster\n",
    "print ('%d clusters' % n_cluster)"
   ]
  },
  {
   "cell_type": "code",
   "execution_count": 130,
   "metadata": {},
   "outputs": [
    {
     "name": "stdout",
     "output_type": "stream",
     "text": [
      "cluster 0 size 3 \n",
      "0,\n",
      "1,\n",
      "2,\n",
      " \n",
      "cluster 1 size 1 \n",
      "3,\n",
      " \n",
      "[[0, 1, 2], [3]]\n"
     ]
    }
   ],
   "source": [
    "label_names=range(4)\n",
    "for i in range(n_cluster):\n",
    "    idx = np.nonzero(cluster_labels == unique_cluster_label[i])[0]\n",
    "    cluster_members[i]=list(idx)\n",
    "    print ('cluster %d size %d ' % (i, len(idx)))\n",
    "    for j in range(len(idx)):\n",
    "        print ('%s,' % label_names[idx[j]],)\n",
    "    print (' ')\n",
    "print(cluster_members)"
   ]
  },
  {
   "cell_type": "code",
   "execution_count": 131,
   "metadata": {},
   "outputs": [],
   "source": [
    "''' compute a  histogram of the percentage of images \n",
    "that are classified as a label in the same cluster of its groundtruth label\n",
    "'''\n",
    "def plot_cluster_coverage(num_class, cluster_mbs,confusion_mat):\n",
    "    cluster_coverage=np.zeros((num_class))\n",
    "    for i in range(len(cluster_mbs)):\n",
    "        for j in range(len(cluster_mbs[i])):\n",
    "            class_id=cluster_mbs[i][j]\n",
    "# TODO  Shreya : Not very sure whether this must be multiplied back\n",
    "            cluster_coverage[class_id]=np.sum(confusion_mat[class_id,cluster_mbs[i]])\n",
    "    print(cluster_coverage)\n",
    "    n, bins, patches=plt.hist(cluster_coverage,bins=20)\n",
    "    \n",
    "def read_text(fn):\n",
    "    text=[]\n",
    "    f=open(fn)\n",
    "    for line in f:\n",
    "        text+=[line]\n",
    "    f.close()\n",
    "    return text\n",
    "\n",
    "def write_text(fn,text):\n",
    "    f=open(fn,'w')\n",
    "    f.writelines(text)\n",
    "    f.close()\n",
    "    \n",
    "def find_layer_id(lay_names,lay_name):\n",
    "    for i in range(len(lay_names)):\n",
    "        if lay_names[i]==lay_name:\n",
    "            return i\n",
    "    return -1\n",
    "\n"
   ]
  },
  {
   "cell_type": "code",
   "execution_count": 132,
   "metadata": {},
   "outputs": [
    {
     "name": "stdout",
     "output_type": "stream",
     "text": [
      "total_member 8\n",
      "[[0, 1, 2, 3], [3, 2, 1, 0]]\n"
     ]
    },
    {
     "data": {
      "image/png": "[encoded data removed]",
      "text/plain": [
       "<matplotlib.figure.Figure at 0x115684c88>"
      ]
     },
     "metadata": {},
     "output_type": "display_data"
    }
   ],
   "source": [
    "''' Adding extra classes to each branch to compensate for coarse misclassification at gating part\n",
    "For each branch, sort all classes out of branch based on likelihood that they're misclassified into the branch\n",
    "Take the top ones and also limit the total number of classes within each branch\n",
    "'''\n",
    "\n",
    "exp_cluster_members=[None]*n_cluster\n",
    "if 1:\n",
    "    all_mb=range(num_classes)\n",
    "    # for 9 clusters v0.0\n",
    "    gamma=5.0\n",
    "    score_thres=1.0/(gamma*n_cluster)\n",
    "    \n",
    "    \n",
    "    max_exp_clu_size=80\n",
    "    extra_cluster_members=[None]*n_cluster\n",
    "\n",
    "    for i in range(n_cluster):\n",
    "        non_member = np.asarray(np.setdiff1d(range(num_class),cluster_members[i]))\n",
    "    #     print non_member.shape\n",
    "        score=np.zeros((non_member.shape[0]))\n",
    "        for j in range(non_member.shape[0]):\n",
    "            idx=np.nonzero(df['t']==non_member[j])[0]\n",
    "            lc_prob=val_prob[idx,:][:,cluster_members[i]]\n",
    "            score[j]=np.mean(np.sum(lc_prob,axis=1))\n",
    "        score_sorted=np.sort(score)[::-1]\n",
    "        idx_sort=np.argsort(score)[::-1]\n",
    "        idx2=np.nonzero(score_sorted>=score_thres)[0]\n",
    "        if len(idx2)+len(cluster_members[i])> max_exp_clu_size:\n",
    "            idx2=idx2[:(max_exp_clu_size-len(cluster_members[i]))]\n",
    "        extra_cluster_members[i]=[non_member[idx_sort[id]] for id in idx2]\n",
    "        exp_cluster_members[i]=cluster_members[i]+extra_cluster_members[i]\n",
    "        assert len(exp_cluster_members[i])==np.unique(np.asarray(exp_cluster_members[i])).shape[0]\n",
    "else:\n",
    "    '''disjoint coarse category'''\n",
    "    for i in range(n_cluster):\n",
    "        exp_cluster_members[i]=cluster_members[i]\n",
    "        \n",
    "total_member=sum([len(cluster) for cluster in exp_cluster_members])\n",
    "print('total_member %d' % total_member)\n",
    "plt.hist([len(cluster) for cluster in exp_cluster_members],bins=20)\n",
    "\n",
    "print(exp_cluster_members)\n",
    "    "
   ]
  },
  {
   "cell_type": "code",
   "execution_count": 133,
   "metadata": {},
   "outputs": [
    {
     "name": "stdout",
     "output_type": "stream",
     "text": [
      "[0.5 1.5]\n"
     ]
    },
    {
     "data": {
      "image/png": "[encoded data removed]",
      "text/plain": [
       "<matplotlib.figure.Figure at 0x114c5c3c8>"
      ]
     },
     "metadata": {},
     "output_type": "display_data"
    }
   ],
   "source": [
    "plt.rcParams['figure.figsize'] = (5, 7)\n",
    "plt.rcParams['image.interpolation'] = 'nearest'\n",
    "plt.rcParams['image.cmap'] = 'gray'\n",
    "\n",
    "fine_category_occurrence=np.zeros((num_classes),dtype=np.int32)\n",
    "for i, exp_cluster_member in enumerate(exp_cluster_members):\n",
    "    for j in range(len(exp_cluster_member)):\n",
    "        fine_category_occurrence[exp_cluster_member[j]]+=1\n",
    "n, bins, patches=plt.hist(fine_category_occurrence,bins=np.arange(0,np.max(fine_category_occurrence),1)+1.5,rwidth=0.7,histtype='bar')\n",
    "print(np.arange(0,np.max(fine_category_occurrence),1)+0.5)\n",
    "# plt.ylabel('fine category occurrence')\n",
    "plt.xlabel('fine category occurrences',fontsize=20)\n",
    "# plt.ylabel('count',fontsize=28)\n",
    "plt.tick_params(axis='both', which='major', labelsize=20)"
   ]
  },
  {
   "cell_type": "code",
   "execution_count": 134,
   "metadata": {},
   "outputs": [
    {
     "name": "stdout",
     "output_type": "stream",
     "text": [
      "4\n"
     ]
    }
   ],
   "source": [
    "print(num_class)\n",
    "fine2multicoarse=[None]*num_class\n",
    "for i in range(num_class):\n",
    "    fine2multicoarse[i]=[]\n",
    "for i in range(len(exp_cluster_members)):\n",
    "    for j in range(len(exp_cluster_members[i])):\n",
    "        fine2multicoarse[exp_cluster_members[i][j]] += [i]"
   ]
  },
  {
   "cell_type": "code",
   "execution_count": 135,
   "metadata": {},
   "outputs": [
    {
     "name": "stdout",
     "output_type": "stream",
     "text": [
      "[0.5 1.  1.  0.6]\n",
      "[[0, 1, 2], [3]] 4\n"
     ]
    },
    {
     "data": {
      "image/png": "[encoded data removed]",
      "text/plain": [
       "<matplotlib.figure.Figure at 0x115667470>"
      ]
     },
     "metadata": {},
     "output_type": "display_data"
    }
   ],
   "source": [
    "\n",
    "\n",
    "plot_cluster_coverage(num_class,cluster_members,conf_mat)\n",
    "print(cluster_members,num_class)"
   ]
  },
  {
   "cell_type": "code",
   "execution_count": 136,
   "metadata": {},
   "outputs": [
    {
     "name": "stdout",
     "output_type": "stream",
     "text": [
      "[1. 1. 1. 1.]\n",
      "[[0, 1, 2, 3], [3, 2, 1, 0]] 4\n"
     ]
    },
    {
     "data": {
      "image/png": "[encoded data removed]",
      "text/plain": [
       "<matplotlib.figure.Figure at 0x1a198d0208>"
      ]
     },
     "metadata": {},
     "output_type": "display_data"
    }
   ],
   "source": [
    "plot_cluster_coverage(num_class,exp_cluster_members,conf_mat)\n",
    "print(exp_cluster_members,num_class)"
   ]
  },
  {
   "cell_type": "code",
   "execution_count": 137,
   "metadata": {},
   "outputs": [
    {
     "name": "stdout",
     "output_type": "stream",
     "text": [
      "cluster 0 size 3\n",
      "cluster 1 size 1\n"
     ]
    }
   ],
   "source": [
    "version ='v0.0'\n",
    "label_2_clusterid = np.zeros((num_classes))\n",
    "for i in range(n_cluster):\n",
    "    print('cluster %d size %d' %(i, len(cluster_members[i])))\n",
    "    for j in range(len(cluster_members[i])):\n",
    "        label_2_clusterid[cluster_members[i][j]] = i\n",
    "\n",
    "label_2_clusterid_file = root + 'label_2_clusterID.txt' \n",
    "\n",
    "f=open(label_2_clusterid_file,'w')\n",
    "for i in range(num_classes):\n",
    "    f.write('%d\\n' % label_2_clusterid[i])\n",
    "f.close()"
   ]
  },
  {
   "cell_type": "code",
   "execution_count": null,
   "metadata": {},
   "outputs": [],
   "source": [
    "'''\n",
    "read 100-class probabilities for testing images from leveldb\n",
    "'''\n"
   ]
  },
  {
   "cell_type": "code",
   "execution_count": null,
   "metadata": {},
   "outputs": [],
   "source": []
  },
  {
   "cell_type": "code",
   "execution_count": null,
   "metadata": {},
   "outputs": [],
   "source": []
  }
 ],
 "metadata": {
  "kernelspec": {
   "display_name": "Python 3",
   "language": "python",
   "name": "python3"
  },
  "language_info": {
   "codemirror_mode": {
    "name": "ipython",
    "version": 3
   },
   "file_extension": ".py",
   "mimetype": "text/x-python",
   "name": "python",
   "nbconvert_exporter": "python",
   "pygments_lexer": "ipython3",
   "version": "3.5.5"
  }
 },
 "nbformat": 4,
 "nbformat_minor": 2
}

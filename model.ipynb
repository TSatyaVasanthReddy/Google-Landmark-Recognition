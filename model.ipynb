{
 "cells": [
  {
   "cell_type": "code",
   "execution_count": 95,
   "metadata": {},
   "outputs": [],
   "source": [
    "from __future__ import print_function\n",
    "import keras\n",
    "from keras.layers import Input, Conv2D, Dropout, MaxPooling2D, Flatten, Dense\n",
    "from keras.models import Model, Sequential\n",
    "from keras.preprocessing.image import ImageDataGenerator, array_to_img, img_to_array, load_img\n",
    "from keras.utils import to_categorical\n",
    "from keras import optimizers\n",
    "import matplotlib.pylab as plt\n",
    "import scipy.linalg\n",
    "from sklearn.cluster import k_means\n",
    "from sklearn.cluster import *\n",
    "from sklearn.model_selection import train_test_split\n",
    "from sklearn import preprocessing\n",
    "import csv\n",
    "import numpy as np\n",
    "import pandas as pd\n",
    "from imutils import paths\n",
    "import random\n",
    "import cv2\n",
    "import os\n",
    "import copy\n"
   ]
  },
  {
   "cell_type": "code",
   "execution_count": 102,
   "metadata": {},
   "outputs": [
    {
     "name": "stdout",
     "output_type": "stream",
     "text": [
      "(128, 128, 3)\n"
     ]
    }
   ],
   "source": [
    "batch_size = 128\n",
    "epochs = 50\n",
    "imsize = 128\n",
    "\n",
    "# input image dimensions\n",
    "img_x, img_y = imsize, imsize\n",
    "input_shape = (img_x, img_y,3)\n",
    "print(input_shape)"
   ]
  },
  {
   "cell_type": "code",
   "execution_count": 103,
   "metadata": {},
   "outputs": [
    {
     "name": "stdout",
     "output_type": "stream",
     "text": [
      "Found 550 images belonging to 10 classes.\n",
      "Found 100 images belonging to 10 classes.\n"
     ]
    }
   ],
   "source": [
    "#ImageDataGenerator to generate batches of images\n",
    "#add: zca_whitening = True,\n",
    "train_datagen = ImageDataGenerator(rescale=1./255)\n",
    "test_datagen = ImageDataGenerator(rescale=1./255)\n",
    "train_generator = train_datagen.flow_from_directory(\n",
    "        'data/train',\n",
    "        target_size=(imsize, imsize),\n",
    "        batch_size=batch_size,\n",
    "        class_mode='categorical')\n",
    "validation_generator = test_datagen.flow_from_directory(\n",
    "        'data/validation',\n",
    "        target_size=(imsize, imsize),\n",
    "        batch_size=batch_size,\n",
    "        class_mode='categorical')"
   ]
  },
  {
   "cell_type": "code",
   "execution_count": null,
   "metadata": {},
   "outputs": [],
   "source": [
    "num_classes = len(np.unique(train_datagen.classes))"
   ]
  },
  {
   "cell_type": "code",
   "execution_count": 104,
   "metadata": {},
   "outputs": [
    {
     "data": {
      "text/plain": [
       "{'10005': 0,\n",
       " '10026': 1,\n",
       " '10028': 2,\n",
       " '10033': 3,\n",
       " '10045': 4,\n",
       " '1005': 5,\n",
       " '10067': 6,\n",
       " '1031': 7,\n",
       " '1046': 8,\n",
       " '1054': 9}"
      ]
     },
     "execution_count": 104,
     "metadata": {},
     "output_type": "execute_result"
    }
   ],
   "source": [
    "train_generator.class_indices\n"
   ]
  },
  {
   "cell_type": "code",
   "execution_count": 105,
   "metadata": {
    "collapsed": true
   },
   "outputs": [],
   "source": [
    "model = Sequential()\n",
    "\n",
    "model.add(Conv2D(32, kernel_size=(5, 5), strides=(1, 1),\n",
    "                 activation='relu',\n",
    "                 input_shape=input_shape))\n",
    "model.add(MaxPooling2D(pool_size=(2, 2), strides=(2, 2)))\n",
    "model.add(Conv2D(64, (5, 5), activation='relu'))\n",
    "model.add(MaxPooling2D(pool_size=(2, 2)))\n",
    "model.add(Flatten())\n",
    "model.add(Dense(100, activation='relu'))\n",
    "model.add(Dense(num_classes, activation='softmax'))\n",
    "\n",
    "model.compile(loss=keras.losses.categorical_crossentropy,\n",
    "              optimizer=keras.optimizers.SGD(lr=0.01),\n",
    "              metrics=['accuracy'])"
   ]
  },
  {
   "cell_type": "code",
   "execution_count": 106,
   "metadata": {},
   "outputs": [
    {
     "name": "stdout",
     "output_type": "stream",
     "text": [
      "_________________________________________________________________\n",
      "Layer (type)                 Output Shape              Param #   \n",
      "=================================================================\n",
      "conv2d_36 (Conv2D)           (None, 124, 124, 32)      2432      \n",
      "_________________________________________________________________\n",
      "max_pooling2d_18 (MaxPooling (None, 62, 62, 32)        0         \n",
      "_________________________________________________________________\n",
      "conv2d_37 (Conv2D)           (None, 58, 58, 64)        51264     \n",
      "_________________________________________________________________\n",
      "max_pooling2d_19 (MaxPooling (None, 29, 29, 64)        0         \n",
      "_________________________________________________________________\n",
      "flatten_11 (Flatten)         (None, 53824)             0         \n",
      "_________________________________________________________________\n",
      "dense_21 (Dense)             (None, 100)               5382500   \n",
      "_________________________________________________________________\n",
      "dense_22 (Dense)             (None, 10)                1010      \n",
      "=================================================================\n",
      "Total params: 5,437,206\n",
      "Trainable params: 5,437,206\n",
      "Non-trainable params: 0\n",
      "_________________________________________________________________\n"
     ]
    }
   ],
   "source": [
    "model.summary()"
   ]
  },
  {
   "cell_type": "code",
   "execution_count": 107,
   "metadata": {},
   "outputs": [
    {
     "name": "stdout",
     "output_type": "stream",
     "text": [
      "Epoch 1/10\n",
      "184/184 [==============================] - 65s 352ms/step - loss: 2.2781 - acc: 0.1359 - val_loss: 2.1935 - val_acc: 0.1900\n",
      "Epoch 2/10\n",
      "184/184 [==============================] - 64s 349ms/step - loss: 2.1311 - acc: 0.2373 - val_loss: 1.9456 - val_acc: 0.3400\n",
      "Epoch 3/10\n",
      "184/184 [==============================] - 63s 341ms/step - loss: 1.9480 - acc: 0.3442 - val_loss: 1.9407 - val_acc: 0.2600\n",
      "Epoch 4/10\n",
      "184/184 [==============================] - 64s 346ms/step - loss: 1.6997 - acc: 0.4167 - val_loss: 1.6275 - val_acc: 0.4400\n",
      "Epoch 5/10\n",
      "184/184 [==============================] - 61s 333ms/step - loss: 1.4808 - acc: 0.5000 - val_loss: 1.7145 - val_acc: 0.4600\n",
      "Epoch 6/10\n",
      "184/184 [==============================] - 63s 341ms/step - loss: 1.2973 - acc: 0.5996 - val_loss: 1.5894 - val_acc: 0.4800\n",
      "Epoch 7/10\n",
      "184/184 [==============================] - 65s 355ms/step - loss: 0.9206 - acc: 0.7083 - val_loss: 1.5761 - val_acc: 0.5100\n",
      "Epoch 8/10\n",
      "184/184 [==============================] - 62s 336ms/step - loss: 0.6135 - acc: 0.8098 - val_loss: 1.7790 - val_acc: 0.5200\n",
      "Epoch 9/10\n",
      "184/184 [==============================] - 63s 340ms/step - loss: 0.4102 - acc: 0.8750 - val_loss: 1.9993 - val_acc: 0.4400\n",
      "Epoch 10/10\n",
      "184/184 [==============================] - 61s 329ms/step - loss: 0.2044 - acc: 0.9330 - val_loss: 2.5896 - val_acc: 0.4900\n"
     ]
    },
    {
     "data": {
      "text/plain": [
       "<keras.callbacks.History at 0x22f8826e588>"
      ]
     },
     "execution_count": 107,
     "metadata": {},
     "output_type": "execute_result"
    }
   ],
   "source": [
    "model.fit_generator(train_generator,\n",
    "          epochs=epochs,\n",
    "          verbose=1,\n",
    "          validation_data=validation_generator,\n",
    "          )"
   ]
  },
  {
   "cell_type": "code",
   "execution_count": 108,
   "metadata": {},
   "outputs": [],
   "source": [
    "y = train_generator.classes\n",
    "yval = validation_generator.classes\n",
    "\n",
    "yp = model.predict_generator(train_generator)\n",
    "yp = [np.argmax(x) for x in yp]\n",
    "ypval = model.predict_generator(validation_generator)\n",
    "ypval = [np.argmax(x) for x in ypval]"
   ]
  },
  {
   "cell_type": "code",
   "execution_count": 109,
   "metadata": {},
   "outputs": [],
   "source": [
    "df = pd.DataFrame([yval,ypval])\n",
    "df = df.transpose()\n",
    "df.columns =['t','p']"
   ]
  },
  {
   "cell_type": "code",
   "execution_count": 110,
   "metadata": {
    "collapsed": true
   },
   "outputs": [],
   "source": [
    "#modifying probabilities so that they sum up to 1\n",
    "def softmax(ftr):\n",
    "    print('compute softmax probabilities')\n",
    "    num, dim = ftr.shape[0], ftr.shape[1]\n",
    "    print('num %d dim %d' % (num, dim))\n",
    "    prob = np.zeros((num, dim), dtype=np.single)\n",
    "    for i in range(num):\n",
    "        max_val = np.max(ftr[i, :])\n",
    "        row = ftr[i, :] - max_val\n",
    "        exp_val = np.exp(row)\n",
    "        prob[i, :] = exp_val / np.sum(exp_val)\n",
    "    return prob "
   ]
  },
  {
   "cell_type": "code",
   "execution_count": 111,
   "metadata": {},
   "outputs": [
    {
     "name": "stdout",
     "output_type": "stream",
     "text": [
      "[0.1, 0.1, 0.1, 0.1, 0.1, 0.1, 0.1, 0.1, 0.1, 0.1]\n"
     ]
    }
   ],
   "source": [
    "#TODO: automate\n",
    "num_values = len(train_datagen.classes)\n",
    "\n",
    "conf_mat = np.zeros((num_classes,num_classes))"
   ]
  },
  {
   "cell_type": "code",
   "execution_count": 112,
   "metadata": {},
   "outputs": [
    {
     "name": "stdout",
     "output_type": "stream",
     "text": [
      "compute softmax probabilities\n",
      "num 100 dim 10\n"
     ]
    }
   ],
   "source": [
    "'''\n",
    "Hardcoding 100-class probabilities for validation images .\n",
    "'''\n",
    "#class_prob = [14/59,16/59,5/59,14/59,10/59]\n",
    "class_prob = [0.1]*num_classes\n",
    "val_prob = np.zeros((num_values,num_classes))\n",
    "\n",
    "for i in range(num_values):\n",
    "    for j in range(num_classes):\n",
    "        val_prob[i][j]=class_prob[j]\n",
    "val_prob=softmax(val_prob)\n",
    "#print(val_prob)\n"
   ]
  },
  {
   "cell_type": "code",
   "execution_count": 113,
   "metadata": {},
   "outputs": [
    {
     "data": {
      "text/html": [
       "<div>\n",
       "<style scoped>\n",
       "    .dataframe tbody tr th:only-of-type {\n",
       "        vertical-align: middle;\n",
       "    }\n",
       "\n",
       "    .dataframe tbody tr th {\n",
       "        vertical-align: top;\n",
       "    }\n",
       "\n",
       "    .dataframe thead th {\n",
       "        text-align: right;\n",
       "    }\n",
       "</style>\n",
       "<table border=\"1\" class=\"dataframe\">\n",
       "  <thead>\n",
       "    <tr style=\"text-align: right;\">\n",
       "      <th></th>\n",
       "      <th>t</th>\n",
       "      <th>p</th>\n",
       "    </tr>\n",
       "  </thead>\n",
       "  <tbody>\n",
       "    <tr>\n",
       "      <th>0</th>\n",
       "      <td>0</td>\n",
       "      <td>1</td>\n",
       "    </tr>\n",
       "    <tr>\n",
       "      <th>1</th>\n",
       "      <td>0</td>\n",
       "      <td>5</td>\n",
       "    </tr>\n",
       "    <tr>\n",
       "      <th>2</th>\n",
       "      <td>0</td>\n",
       "      <td>5</td>\n",
       "    </tr>\n",
       "    <tr>\n",
       "      <th>3</th>\n",
       "      <td>0</td>\n",
       "      <td>7</td>\n",
       "    </tr>\n",
       "    <tr>\n",
       "      <th>4</th>\n",
       "      <td>0</td>\n",
       "      <td>8</td>\n",
       "    </tr>\n",
       "  </tbody>\n",
       "</table>\n",
       "</div>"
      ],
      "text/plain": [
       "   t  p\n",
       "0  0  1\n",
       "1  0  5\n",
       "2  0  5\n",
       "3  0  7\n",
       "4  0  8"
      ]
     },
     "execution_count": 113,
     "metadata": {},
     "output_type": "execute_result"
    }
   ],
   "source": [
    "df.head()"
   ]
  },
  {
   "cell_type": "code",
   "execution_count": 114,
   "metadata": {
    "collapsed": true
   },
   "outputs": [],
   "source": [
    "for i in range(df.shape[0]):\n",
    "    t = df.loc[i]['t']\n",
    "    p = df.loc[i]['p']\n",
    "    #print(conf_mat)\n",
    "    conf_mat[t][p] = conf_mat[t][p] +1\n",
    "    #print(conf_mat)\n",
    "for i in range(num_classes):\n",
    "    conf_mat[i] = conf_mat[i]/sum(conf_mat[i])\n"
   ]
  },
  {
   "cell_type": "code",
   "execution_count": 115,
   "metadata": {},
   "outputs": [
    {
     "name": "stdout",
     "output_type": "stream",
     "text": [
      "[[0.1 0.1 0.  0.  0.  0.4 0.1 0.1 0.2 0. ]\n",
      " [0.  0.1 0.3 0.1 0.  0.2 0.  0.2 0.1 0. ]\n",
      " [0.1 0.  0.  0.  0.2 0.3 0.  0.2 0.1 0.1]\n",
      " [0.2 0.  0.  0.2 0.2 0.3 0.  0.1 0.  0. ]\n",
      " [0.3 0.  0.  0.1 0.1 0.4 0.  0.1 0.  0. ]\n",
      " [0.1 0.  0.  0.2 0.1 0.3 0.1 0.1 0.  0.1]\n",
      " [0.1 0.  0.  0.1 0.2 0.3 0.2 0.1 0.  0. ]\n",
      " [0.  0.  0.1 0.  0.2 0.3 0.2 0.1 0.1 0. ]\n",
      " [0.  0.2 0.  0.  0.3 0.2 0.1 0.  0.  0.2]\n",
      " [0.1 0.2 0.1 0.  0.1 0.3 0.1 0.  0.  0.1]]\n"
     ]
    },
    {
     "data": {
      "text/plain": [
       "<matplotlib.image.AxesImage at 0x22f88349710>"
      ]
     },
     "execution_count": 115,
     "metadata": {},
     "output_type": "execute_result"
    },
    {
     "data": {
      "image/png": "[encoded data removed]",
      "text/plain": [
       "<Figure size 432x288 with 1 Axes>"
      ]
     },
     "metadata": {},
     "output_type": "display_data"
    }
   ],
   "source": [
    "print(conf_mat)\n",
    "plt.imshow(conf_mat)"
   ]
  },
  {
   "cell_type": "code",
   "execution_count": 116,
   "metadata": {},
   "outputs": [
    {
     "data": {
      "text/plain": [
       "<matplotlib.image.AxesImage at 0x22f88332438>"
      ]
     },
     "execution_count": 116,
     "metadata": {},
     "output_type": "execute_result"
    },
    {
     "data": {
      "image/png": "[encoded data removed]",
      "text/plain": [
       "<Figure size 432x288 with 1 Axes>"
      ]
     },
     "metadata": {},
     "output_type": "display_data"
    }
   ],
   "source": [
    "dist_mat = 1 - conf_mat\n",
    "'''set diagonal elements to 0'''\n",
    "dist_mat[range(num_classes),range(num_classes)]=0\n",
    "dist_mat = 0.5 * (dist_mat + dist_mat.T)\n",
    "plt.figure()\n",
    "plt.title('distance matrix on validation set')\n",
    "plt.imshow(dist_mat)"
   ]
  },
  {
   "cell_type": "code",
   "execution_count": 117,
   "metadata": {},
   "outputs": [
    {
     "name": "stdout",
     "output_type": "stream",
     "text": [
      "[-0.31622777 -0.31622777 -0.31622777 -0.31622777 -0.31622777 -0.31622777\n",
      " -0.31622777 -0.31622777 -0.31622777 -0.31622777]\n"
     ]
    },
    {
     "data": {
      "text/plain": [
       "[<matplotlib.lines.Line2D at 0x22f06a7b3c8>]"
      ]
     },
     "execution_count": 117,
     "metadata": {},
     "output_type": "execute_result"
    },
    {
     "data": {
      "image/png": "[encoded data removed]",
      "text/plain": [
       "<Figure size 432x288 with 1 Axes>"
      ]
     },
     "metadata": {},
     "output_type": "display_data"
    }
   ],
   "source": [
    "'''Laplacian eigenmap dimensionality reduction\n",
    "construct adjacency graph W (symmetric) using k-NN'''\n",
    "W=np.zeros((num_classes,num_classes))\n",
    "\n",
    "#TODO: hyper-parameter optimization\n",
    "k_nn, t, dim = 3, 0.9, 4\n",
    "\n",
    "for i in range(num_classes):\n",
    "    idx=np.argsort(dist_mat[i,:])[1:k_nn+1]\n",
    "    W[i,idx]=np.exp(-dist_mat[i,idx] / t)\n",
    "    W[idx,i]=W[i,idx]\n",
    "D=np.zeros(W.shape)\n",
    "for i in range(num_classes):\n",
    "    D[i,i]=np.sum(W[i,:])\n",
    "L=D-W\n",
    "eig_val,eig_vec=scipy.linalg.eig(L,D)\n",
    "ftr=eig_vec[:,1:dim+1]\n",
    "print(eig_vec[:,0]) # the 1st eigenvector should be all ones\n",
    "eigval_cumsum = np.cumsum(np.real(eig_val))\n",
    "plt.plot(eigval_cumsum)"
   ]
  },
  {
   "cell_type": "code",
   "execution_count": 118,
   "metadata": {},
   "outputs": [
    {
     "name": "stdout",
     "output_type": "stream",
     "text": [
      "2 clusters\n"
     ]
    }
   ],
   "source": [
    "#TODO: hyperparameter optimization\n",
    "affinity_propagation_cluster = AffinityPropagation(damping=0.75, max_iter=15000, convergence_iter=50, copy=True) \n",
    "cluster_labels = affinity_propagation_cluster.fit_predict(ftr)\n",
    "unique_cluster_label = np.unique(cluster_labels)\n",
    "n_cluster = unique_cluster_label.shape[0]\n",
    "cluster_members=[None]*n_cluster\n",
    "print ('%d clusters' % n_cluster)"
   ]
  },
  {
   "cell_type": "code",
   "execution_count": 119,
   "metadata": {},
   "outputs": [
    {
     "name": "stdout",
     "output_type": "stream",
     "text": [
      "cluster 0 size 3 \n",
      "1,\n",
      "8,\n",
      "9,\n",
      " \n",
      "cluster 1 size 7 \n",
      "0,\n",
      "2,\n",
      "3,\n",
      "4,\n",
      "5,\n",
      "6,\n",
      "7,\n",
      " \n",
      "[[1, 8, 9], [0, 2, 3, 4, 5, 6, 7]]\n"
     ]
    }
   ],
   "source": [
    "label_names=range(num_classes)\n",
    "for i in range(n_cluster):\n",
    "    idx = np.nonzero(cluster_labels == unique_cluster_label[i])[0]\n",
    "    cluster_members[i]=list(idx)\n",
    "    print ('cluster %d size %d ' % (i, len(idx)))\n",
    "    for j in range(len(idx)):\n",
    "        print ('%s,' % label_names[idx[j]],)\n",
    "    print (' ')\n",
    "print(cluster_members)\n"
   ]
  },
  {
   "cell_type": "code",
   "execution_count": 120,
   "metadata": {},
   "outputs": [],
   "source": [
    "f2cmap = {}\n",
    "for coarse in range(len(cluster_members)):\n",
    "    for fine in cluster_members[coarse]:\n",
    "        f2cmap[fine] = coarse\n"
   ]
  },
  {
   "cell_type": "code",
   "execution_count": 121,
   "metadata": {
    "collapsed": true
   },
   "outputs": [],
   "source": [
    "train_fine = train_generator.classes\n",
    "train_coarse = [f2cmap[c] for c in train_fine]\n",
    "val_fine = validation_generator.classes\n",
    "val_coarse = [f2cmap[c] for c in val_fine]"
   ]
  },
  {
   "cell_type": "code",
   "execution_count": 122,
   "metadata": {},
   "outputs": [
    {
     "name": "stdout",
     "output_type": "stream",
     "text": [
      "2\n",
      "10\n"
     ]
    }
   ],
   "source": [
    "# The number of coarse categories\n",
    "coarse_categories = n_cluster\n",
    "# The number of fine categories\n",
    "fine_categories = num_classes\n",
    "\n",
    "print(coarse_categories)\n",
    "print(fine_categories)\n",
    "\n",
    "# fine2coarse = np.zeros((fine_categories,coarse_categories))\n",
    "# for i in range(coarse_categories):\n",
    "#     for j in cluster_members[i]:\n",
    "#         fine2coarse[j,i] = 1"
   ]
  },
  {
   "cell_type": "code",
   "execution_count": 123,
   "metadata": {
    "collapsed": true
   },
   "outputs": [],
   "source": [
    "#single classifier training (shared)\n",
    "in_layer = Input(shape=input_shape, dtype='float32', name='main_input')\n",
    "\n",
    "net = Conv2D(384, 3, strides=1, padding='same', activation='elu')(in_layer)\n",
    "net = MaxPooling2D((2, 2), padding='valid')(net)\n",
    "\n",
    "net = Conv2D(384, 1, strides=1, padding='same', activation='elu')(net)\n",
    "net = Conv2D(384, 2, strides=1, padding='same', activation='elu')(net)\n",
    "net = Conv2D(640, 2, strides=1, padding='same', activation='elu')(net)\n",
    "net = Conv2D(640, 2, strides=1, padding='same', activation='elu')(net)\n",
    "net = Dropout(.2)(net)\n",
    "net = MaxPooling2D((2, 2), padding='valid')(net)\n",
    "\n",
    "net = Conv2D(640, 1, strides=1, padding='same', activation='elu')(net)\n",
    "net = Conv2D(768, 2, strides=1, padding='same', activation='elu')(net)\n",
    "net = Conv2D(768, 2, strides=1, padding='same', activation='elu')(net)\n",
    "net = Conv2D(768, 2, strides=1, padding='same', activation='elu')(net)\n",
    "net = Dropout(.3)(net)\n",
    "net = MaxPooling2D((2, 2), padding='valid')(net)\n",
    "\n",
    "net = Conv2D(768, 1, strides=1, padding='same', activation='elu')(net)\n",
    "net = Conv2D(896, 2, strides=1, padding='same', activation='elu')(net)\n",
    "net = Conv2D(896, 2, strides=1, padding='same', activation='elu')(net)\n",
    "net = Dropout(.4)(net)\n",
    "net = MaxPooling2D((2, 2), padding='valid')(net)\n",
    "\n",
    "net = Conv2D(896, 3, strides=1, padding='same', activation='elu')(net)\n",
    "net = Conv2D(1024, 2, strides=1, padding='same', activation='elu')(net)\n",
    "net = Conv2D(1024, 2, strides=1, padding='same', activation='elu')(net)\n",
    "net = Dropout(.5)(net)\n",
    "net = MaxPooling2D((2, 2), padding='valid')(net)\n",
    "\n",
    "net = Conv2D(1024, 1, strides=1, padding='same', activation='elu')(net)\n",
    "net = Conv2D(1152, 2, strides=1, padding='same', activation='elu')(net)\n",
    "net = Dropout(.6)(net)\n",
    "net = MaxPooling2D((2, 2), padding='same')(net)\n",
    "\n",
    "net = Flatten()(net)\n",
    "net = Dense(1152, activation='elu')(net)\n",
    "net = Dense(fine_categories, activation='softmax')(net)"
   ]
  },
  {
   "cell_type": "code",
   "execution_count": 124,
   "metadata": {
    "collapsed": true
   },
   "outputs": [],
   "source": [
    "model = Model(inputs=in_layer,outputs=net)\n",
    "sgd_coarse = optimizers.SGD(lr=0.01, decay=1e-6, momentum=0.9, nesterov=True)\n",
    "model.compile(optimizer= sgd_coarse, loss='categorical_crossentropy', metrics=['accuracy'])"
   ]
  },
  {
   "cell_type": "code",
   "execution_count": 146,
   "metadata": {},
   "outputs": [
    {
     "name": "stderr",
     "output_type": "stream",
     "text": [
      "C:\\Users\\Devanshi\\AppData\\Local\\conda\\conda\\envs\\tensorflow\\lib\\site-packages\\keras\\engine\\training.py:975: UserWarning: Discrepancy between trainable weights and collected trainable weights, did you set `model.trainable` without calling `model.compile` after ?\n",
      "  'Discrepancy between trainable weights and collected trainable'\n"
     ]
    },
    {
     "name": "stdout",
     "output_type": "stream",
     "text": [
      "Epoch 1/1\n",
      "184/184 [==============================] - 2073s 11s/step - loss: 14.5121 - acc: 0.0996 - val_loss: 14.5063 - val_acc: 0.1000\n",
      "Epoch 2/2\n",
      "184/184 [==============================] - 2206s 12s/step - loss: 14.5121 - acc: 0.0996 - val_loss: 14.5063 - val_acc: 0.1000\n",
      "Epoch 3/3\n",
      "184/184 [==============================] - 2142s 12s/step - loss: 14.5121 - acc: 0.0996 - val_loss: 14.5063 - val_acc: 0.1000\n",
      "Epoch 4/4\n",
      "184/184 [==============================] - 2418s 13s/step - loss: 14.5121 - acc: 0.0996 - val_loss: 14.5063 - val_acc: 0.1000\n"
     ]
    }
   ],
   "source": [
    "\n",
    "index= 0\n",
    "step = 5\n",
    "stop = 30\n",
    "\n",
    "if not os.path.exists(\"data/models\"):\n",
    "        os.makedirs(\"data/models\")\n",
    "        \n",
    "while index < stop:\n",
    "    model.fit_generator(train_generator,\n",
    "          epochs=index+step,\n",
    "          verbose=1, initial_epoch=index,\n",
    "          validation_data=validation_generator,\n",
    "          )\n",
    "    index += step\n",
    "    model.save_weights('data/models/model_coarse'+str(index))"
   ]
  },
  {
   "cell_type": "code",
   "execution_count": 26,
   "metadata": {
    "collapsed": true
   },
   "outputs": [],
   "source": [
    "#model.load_weights('data/models/model_coarse'+str(1))"
   ]
  },
  {
   "cell_type": "code",
   "execution_count": 147,
   "metadata": {
    "collapsed": true
   },
   "outputs": [],
   "source": [
    "sgd_fine = optimizers.SGD(lr=0.001, decay=1e-6, momentum=0.9, nesterov=True)"
   ]
  },
  {
   "cell_type": "code",
   "execution_count": 148,
   "metadata": {
    "collapsed": true
   },
   "outputs": [],
   "source": [
    "for i in range(len(model.layers)):\n",
    "    model.layers[i].trainable=False"
   ]
  },
  {
   "cell_type": "code",
   "execution_count": 149,
   "metadata": {
    "collapsed": true
   },
   "outputs": [],
   "source": [
    "#fine-tuning for coarse classifier\n",
    "net = Conv2D(1024, 1, strides=1, padding='same', activation='elu')(model.layers[-8].output)\n",
    "net = Conv2D(1152, 2, strides=1, padding='same', activation='elu')(net)\n",
    "net = Dropout(.6)(net)\n",
    "net = MaxPooling2D((2, 2), padding='same')(net)\n",
    "\n",
    "net = Flatten()(net)\n",
    "net = Dense(1152, activation='elu')(net)\n",
    "out_coarse = Dense(coarse_categories, activation='softmax')(net)\n",
    "\n",
    "model_c = Model(inputs=in_layer,outputs=out_coarse)\n",
    "model_c.compile(optimizer= sgd_coarse, loss='categorical_crossentropy', metrics=['accuracy'])\n",
    "\n",
    "for i in range(len(model_c.layers)-1):\n",
    "    model_c.layers[i].set_weights(model.layers[i].get_weights())"
   ]
  },
  {
   "cell_type": "code",
   "execution_count": 150,
   "metadata": {},
   "outputs": [],
   "source": [
    "#model_c.summary()"
   ]
  },
  {
   "cell_type": "code",
   "execution_count": 151,
   "metadata": {},
   "outputs": [
    {
     "name": "stdout",
     "output_type": "stream",
     "text": [
      "{'10026': 1, '1031': 7, '10033': 3, '1005': 5, '10005': 0, '10028': 2, '10067': 6, '1054': 9, '1046': 8, '10045': 4}\n"
     ]
    }
   ],
   "source": [
    "#generating directory structure for coarse categories\n",
    "#we will have all fine categories as directories within each coarse category i.e most will be empty\n",
    "print(train_generator.class_indices)\n",
    "     \n",
    "traindict = train_generator.class_indices\n",
    "traindest = \"data/ctrain\"\n",
    "trainsrc = \"data/train\"\n",
    "valdict = validation_generator.class_indices\n",
    "valdest = \"data/cvalidation\"\n",
    "valsrc = \"data/validation\"\n",
    "\n",
    "for c in range(coarse_categories):\n",
    "    if not os.path.exists(traindest+\"/\"+str(c)):\n",
    "        os.makedirs(traindest+\"/\"+str(c))\n",
    "    if not os.path.exists(valdest+\"/\"+str(c)):\n",
    "        os.makedirs(valdest+\"/\"+str(c))\n",
    "    for key in traindict:\n",
    "        if not os.path.exists(traindest+\"/\"+str(c)+\"/\"+key):\n",
    "            os.makedirs(traindest+\"/\"+str(c)+\"/\"+key)\n",
    "        if not os.path.exists(valdest+\"/\"+str(c)+\"/\"+key):\n",
    "            os.makedirs(valdest+\"/\"+str(c)+\"/\"+key)\n",
    "\n",
    "for key in traindict:\n",
    "    val = traindict[key]\n",
    "    c = f2cmap[val]\n",
    "    os.system('cp '+ trainsrc+key +\"/* \"+ traindest+\"/\"+ str(c)+\"/\"+key)\n",
    "    \n",
    "for key in valdict:\n",
    "    val = valdict[key]\n",
    "    c = f2cmap[val]\n",
    "    os.system('cp '+ valsrc+key +\"/* \"+ valdest+\"/\"+ str(c)+\"/\"+key)\n",
    "        "
   ]
  },
  {
   "cell_type": "code",
   "execution_count": 152,
   "metadata": {},
   "outputs": [
    {
     "name": "stdout",
     "output_type": "stream",
     "text": [
      "Found 550 images belonging to 2 classes.\n",
      "Found 100 images belonging to 2 classes.\n"
     ]
    }
   ],
   "source": [
    "ctrain_generator = train_datagen.flow_from_directory(\n",
    "        'data/ctrain',\n",
    "        target_size=(imsize, imsize),\n",
    "        batch_size=batch_size,\n",
    "        class_mode='categorical')\n",
    "cvalidation_generator = test_datagen.flow_from_directory(\n",
    "        'data/cvalidation',\n",
    "        target_size=(imsize, imsize),\n",
    "        batch_size=batch_size,\n",
    "        class_mode='categorical')"
   ]
  },
  {
   "cell_type": "code",
   "execution_count": 153,
   "metadata": {},
   "outputs": [
    {
     "name": "stdout",
     "output_type": "stream",
     "text": [
      "Epoch 5/5\n",
      "184/184 [==============================] - 1204s 7s/step - loss: 11.2420 - acc: 0.3025 - val_loss: 11.2827 - val_acc: 0.3000\n",
      "Epoch 6/6\n",
      "184/184 [==============================] - 1178s 6s/step - loss: 11.3001 - acc: 0.2989 - val_loss: 11.2827 - val_acc: 0.3000\n",
      "Epoch 7/7\n",
      "184/184 [==============================] - 1252s 7s/step - loss: 11.3001 - acc: 0.2989 - val_loss: 11.2827 - val_acc: 0.3000\n"
     ]
    }
   ],
   "source": [
    "index = 30\n",
    "step = 5\n",
    "stop = 50\n",
    "\n",
    "while index < stop:\n",
    "    model_c.fit_generator(ctrain_generator,\n",
    "          epochs=index+step,\n",
    "          verbose=1, initial_epoch=index,\n",
    "          validation_data = cvalidation_generator\n",
    "          )\n",
    "    index += step"
   ]
  },
  {
   "cell_type": "code",
   "execution_count": 160,
   "metadata": {},
   "outputs": [
    {
     "name": "stdout",
     "output_type": "stream",
     "text": [
      "Epoch 8/8\n",
      "184/184 [==============================] - 925s 5s/step - loss: 11.2420 - acc: 0.3025 - val_loss: 11.2827 - val_acc: 0.3000\n",
      "Epoch 9/9\n",
      "184/184 [==============================] - 798s 4s/step - loss: 11.3001 - acc: 0.2989 - val_loss: 11.2827 - val_acc: 0.3000\n",
      "Epoch 10/10\n",
      "184/184 [==============================] - 844s 5s/step - loss: 11.3001 - acc: 0.2989 - val_loss: 11.2827 - val_acc: 0.3000\n"
     ]
    }
   ],
   "source": [
    "model_c.compile(optimizer=sgd_fine, loss='categorical_crossentropy', metrics=['accuracy'])\n",
    "stop = 80\n",
    "\n",
    "while index < stop:\n",
    "    model_c.fit_generator(ctrain_generator,\n",
    "          epochs=index+step,\n",
    "          verbose=1, initial_epoch=index,\n",
    "          validation_data = cvalidation_generator\n",
    "          )\n",
    "    index += step"
   ]
  },
  {
   "cell_type": "markdown",
   "metadata": {},
   "source": [
    "Variables:\n",
    "y, yval, yp, ypval : true and predicted labels for train and validation\n",
    "train_coarse, train_fine, val_coarse,val_fine : coarse and fine labels for train and validation"
   ]
  },
  {
   "cell_type": "code",
   "execution_count": 161,
   "metadata": {
    "collapsed": true
   },
   "outputs": [],
   "source": [
    "#constructing fine classifiers\n",
    "def fine_model():\n",
    "    net = Conv2D(1024, 1, strides=1, padding='same', activation='elu')(model.layers[-8].output)\n",
    "    net = Conv2D(1152, 2, strides=1, padding='same', activation='elu')(net)\n",
    "    net = Dropout(.6)(net)\n",
    "    net = MaxPooling2D((2, 2), padding='same')(net)\n",
    "\n",
    "    net = Flatten()(net)\n",
    "    net = Dense(1152, activation='elu')(net)\n",
    "    out_fine = Dense(fine_categories, activation='softmax')(net)\n",
    "    model_fine = Model(inputs=in_layer,outputs=out_fine)\n",
    "    model_fine.compile(optimizer= sgd_coarse,\n",
    "              loss='categorical_crossentropy',\n",
    "              metrics=['accuracy'])\n",
    "    \n",
    "    for i in range(len(model_fine.layers)-1):\n",
    "        model_fine.layers[i].set_weights(model.layers[i].get_weights())\n",
    "    return model_fine"
   ]
  },
  {
   "cell_type": "code",
   "execution_count": 162,
   "metadata": {
    "collapsed": true
   },
   "outputs": [],
   "source": [
    "fine_models = {'models' : [{} for i in range(coarse_categories)], 'yhf' : [{} for i in range(coarse_categories)]}\n",
    "for i in range(coarse_categories):\n",
    "    model_i = fine_model()\n",
    "    fine_models['models'][i] = model_i"
   ]
  },
  {
   "cell_type": "code",
   "execution_count": 163,
   "metadata": {
    "collapsed": true
   },
   "outputs": [],
   "source": [
    "def get_error(y,yh):\n",
    "    # Threshold \n",
    "    yht = np.zeros(np.shape(yh))\n",
    "    #here, 1 denotes axis=column\n",
    "    yht[np.arange(len(yh)), yh.argmax(1)] = 1\n",
    "    # Evaluate Error\n",
    "    error = np.count_nonzero(np.count_nonzero(y-yht,1))/len(y)\n",
    "    return error"
   ]
  },
  {
   "cell_type": "code",
   "execution_count": 164,
   "metadata": {},
   "outputs": [
    {
     "name": "stdout",
     "output_type": "stream",
     "text": [
      "Found 165 images belonging to 10 classes.\n",
      "Found 30 images belonging to 10 classes.\n",
      "Found 385 images belonging to 10 classes.\n",
      "Found 70 images belonging to 10 classes.\n"
     ]
    }
   ],
   "source": [
    "#creating generators for fine classifiers\n",
    "traingenlist = []\n",
    "valgenlist = []\n",
    "for i in range(coarse_categories):\n",
    "    tgen = train_datagen.flow_from_directory(\n",
    "            'data/ctrain/'+str(i),\n",
    "            target_size=(imsize, imsize),\n",
    "            batch_size=batch_size,\n",
    "            class_mode='categorical')\n",
    "    vgen = test_datagen.flow_from_directory(\n",
    "            'data/cvalidation/'+str(i),\n",
    "            target_size=(imsize, imsize),\n",
    "            batch_size=batch_size,\n",
    "            class_mode='categorical')\n",
    "    traingenlist.append(tgen)\n",
    "    valgenlist.append(vgen)"
   ]
  },
  {
   "cell_type": "code",
   "execution_count": 165,
   "metadata": {},
   "outputs": [
    {
     "name": "stdout",
     "output_type": "stream",
     "text": [
      "[1, 8, 9]\n",
      "Epoch 1/5\n",
      "55/55 [==============================] - 232s 4s/step - loss: 11.8199 - acc: 0.2667 - val_loss: 10.7454 - val_acc: 0.3333\n",
      "Epoch 2/5\n",
      "55/55 [==============================] - 245s 4s/step - loss: 10.7454 - acc: 0.3333 - val_loss: 10.7454 - val_acc: 0.3333\n",
      "Epoch 3/5\n",
      "55/55 [==============================] - 234s 4s/step - loss: 10.7454 - acc: 0.3333 - val_loss: 10.7454 - val_acc: 0.3333\n",
      "Epoch 4/5\n",
      "55/55 [==============================] - 236s 4s/step - loss: 10.7454 - acc: 0.3333 - val_loss: 10.7454 - val_acc: 0.3333\n",
      "Epoch 5/5\n",
      "55/55 [==============================] - 236s 4s/step - loss: 10.7454 - acc: 0.3333 - val_loss: 10.7454 - val_acc: 0.3333\n",
      "Epoch 6/10\n",
      "55/55 [==============================] - 235s 4s/step - loss: 10.7454 - acc: 0.3333 - val_loss: 10.7454 - val_acc: 0.3333\n",
      "Epoch 7/10\n",
      "55/55 [==============================] - 246s 4s/step - loss: 10.7454 - acc: 0.3333 - val_loss: 10.7454 - val_acc: 0.3333\n",
      "Epoch 8/10\n",
      "55/55 [==============================] - 256s 5s/step - loss: 10.7454 - acc: 0.3333 - val_loss: 10.7454 - val_acc: 0.3333\n",
      "Epoch 9/10\n",
      "55/55 [==============================] - 252s 5s/step - loss: 10.7454 - acc: 0.3333 - val_loss: 10.7454 - val_acc: 0.3333\n",
      "Epoch 10/10\n",
      "55/55 [==============================] - 253s 5s/step - loss: 10.7454 - acc: 0.3333 - val_loss: 10.7454 - val_acc: 0.3333\n",
      "Fine Classifier 0 Error: \n",
      "[0, 2, 3, 4, 5, 6, 7]\n",
      "Epoch 1/5\n",
      "129/129 [==============================] - 587s 5s/step - loss: 13.8410 - acc: 0.1395 - val_loss: 13.8155 - val_acc: 0.1429\n",
      "Epoch 2/5\n",
      "129/129 [==============================] - 581s 5s/step - loss: 13.7447 - acc: 0.1473 - val_loss: 13.8155 - val_acc: 0.1429\n",
      "Epoch 3/5\n",
      "129/129 [==============================] - 604s 5s/step - loss: 13.8273 - acc: 0.1421 - val_loss: 13.8155 - val_acc: 0.1429\n",
      "Epoch 4/5\n",
      "129/129 [==============================] - 585s 5s/step - loss: 13.8273 - acc: 0.1421 - val_loss: 13.8155 - val_acc: 0.1429\n",
      "Epoch 5/5\n",
      "129/129 [==============================] - 596s 5s/step - loss: 13.7447 - acc: 0.1473 - val_loss: 13.8155 - val_acc: 0.1429\n",
      "Epoch 6/10\n",
      "129/129 [==============================] - 593s 5s/step - loss: 13.8273 - acc: 0.1421 - val_loss: 13.8155 - val_acc: 0.1429\n",
      "Epoch 7/10\n",
      "129/129 [==============================] - 574s 4s/step - loss: 13.8273 - acc: 0.1421 - val_loss: 13.8155 - val_acc: 0.1429\n",
      "Epoch 8/10\n",
      "129/129 [==============================] - 554s 4s/step - loss: 13.8273 - acc: 0.1421 - val_loss: 13.8155 - val_acc: 0.1429\n",
      "Epoch 9/10\n",
      "129/129 [==============================] - 619s 5s/step - loss: 13.8273 - acc: 0.1421 - val_loss: 13.8155 - val_acc: 0.1429\n",
      "Epoch 10/10\n",
      "129/129 [==============================] - 971s 8s/step - loss: 13.8273 - acc: 0.1421 - val_loss: 13.8155 - val_acc: 0.1429\n",
      "Fine Classifier 1 Error: \n"
     ]
    }
   ],
   "source": [
    "#training fine classifiers on corresponding data\n",
    "for cat in range(coarse_categories):\n",
    "    index= 0\n",
    "    step = 5\n",
    "    stop = 30\n",
    "    \n",
    "    # Get all training data for the coarse category (not needed as we have generators)\n",
    "    ix = [i for i,j in f2cmap.items() if j==cat]\n",
    "    print(ix)\n",
    "    \n",
    "    while index < stop:\n",
    "        fine_models['models'][cat].fit_generator(traingenlist[cat],\n",
    "          epochs=index+step,\n",
    "          verbose=1, initial_epoch=index,\n",
    "          validation_data = valgenlist[cat]\n",
    "          )\n",
    "        index += step\n",
    "    \n",
    "    fine_models['models'][cat].compile(optimizer=sgd_fine, loss='categorical_crossentropy', metrics=['accuracy'])\n",
    "    stop = 50\n",
    "\n",
    "    while index < stop:\n",
    "        fine_models['models'][cat].fit_generator(traingenlist[cat],\n",
    "          epochs=index+step,\n",
    "          verbose=1, initial_epoch=index,\n",
    "          validation_data = valgenlist[cat]\n",
    "          )\n",
    "        index += step\n",
    "        \n",
    "    #check: compilation needed??\n",
    "    \n",
    "    yh_f = fine_models['models'][cat].predict_generator(valgenlist[cat],steps=30)\n",
    "    print('Fine Classifier '+str(cat)+' Error: ')\n",
    "    #str(get_error(y_val[ix_v],yh_f)))\n",
    "    "
   ]
  },
  {
   "cell_type": "code",
   "execution_count": 193,
   "metadata": {},
   "outputs": [],
   "source": [
    "#yh_f"
   ]
  },
  {
   "cell_type": "code",
   "execution_count": 190,
   "metadata": {},
   "outputs": [],
   "source": [
    "#Probabilistic averaging\n",
    "#predictions from coarse classifier\n",
    "#coarse_predictions dim: n_images_predict X n_classes_coarse\n",
    "\n",
    "coarse_predictions=model_c.predict_generator(validation_generator,steps=30)\n",
    "#coarse_predictions=model_c.predict(img)\n",
    "#predictions from #(coarse categories) fine classifiers\n",
    "fine_predictions = [] #dim:  n_classes_coarse X n_images_predict X n_classes_fine\n",
    "for c in range(coarse_categories):\n",
    "    fine_predictions.append(fine_models['models'][c].predict_generator(validation_generator,steps=30))\n",
    "    #fine_predictions.append(fine_models['models'][c].predict(img))\n"
   ]
  },
  {
   "cell_type": "code",
   "execution_count": 184,
   "metadata": {},
   "outputs": [
    {
     "data": {
      "text/plain": [
       "array([[1., 0.]], dtype=float32)"
      ]
     },
     "execution_count": 184,
     "metadata": {},
     "output_type": "execute_result"
    }
   ],
   "source": [
    "coarse_predictions"
   ]
  },
  {
   "cell_type": "code",
   "execution_count": 185,
   "metadata": {
    "scrolled": true
   },
   "outputs": [
    {
     "data": {
      "text/plain": [
       "[array([[0., 1., 0., 0., 0., 0., 0., 0., 0., 0.]], dtype=float32),\n",
       " array([[0., 0., 0., 0., 0., 0., 1., 0., 0., 0.]], dtype=float32)]"
      ]
     },
     "execution_count": 185,
     "metadata": {},
     "output_type": "execute_result"
    }
   ],
   "source": [
    "fine_predictions"
   ]
  },
  {
   "cell_type": "code",
   "execution_count": 186,
   "metadata": {},
   "outputs": [],
   "source": [
    "prediction_size = len(coarse_predictions)\n",
    "predictions = []\n",
    "for img in range(prediction_size):\n",
    "    proba = [0]*fine_categories\n",
    "    for finec in range(fine_categories):\n",
    "        for coarsec in range(coarse_categories):\n",
    "            proba[finec] += coarse_predictions[img][coarsec]*fine_predictions[coarsec][img][finec]\n",
    "    predicted = np.argmax(proba)\n",
    "    predictions.append(predicted)"
   ]
  },
  {
   "cell_type": "code",
   "execution_count": null,
   "metadata": {},
   "outputs": [],
   "source": []
  },
  {
   "cell_type": "code",
   "execution_count": null,
   "metadata": {
    "collapsed": true
   },
   "outputs": [],
   "source": []
  }
 ],
 "metadata": {
  "kernelspec": {
   "display_name": "Python 3",
   "language": "python",
   "name": "python3"
  },
  "language_info": {
   "codemirror_mode": {
    "name": "ipython",
    "version": 3
   },
   "file_extension": ".py",
   "mimetype": "text/x-python",
   "name": "python",
   "nbconvert_exporter": "python",
   "pygments_lexer": "ipython3",
   "version": "3.6.4"
  }
 },
 "nbformat": 4,
 "nbformat_minor": 2
}

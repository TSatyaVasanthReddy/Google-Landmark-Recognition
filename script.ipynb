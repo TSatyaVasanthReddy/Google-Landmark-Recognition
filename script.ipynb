{
 "cells": [
  {
   "cell_type": "markdown",
   "metadata": {
    "_cell_guid": "048d1d0f-8c94-4f48-9ed8-66f9b289d55f",
    "_uuid": "8ba2b81da7112bb2c444597f0c683da06f46b532"
   },
   "source": [
    "This is fast image downloader using this trick:\n",
    "https://www.kaggle.com/c/landmark-recognition-challenge/discussion/49703\n",
    "And you can change target size that you prefer.\n",
    "\n",
    "Reference:\n",
    "https://www.kaggle.com/c/landmark-recognition-challenge/discussion/48895\n",
    "```\n",
    "For 256,256 this should be 22 GB\n",
    "For 224,224 this should be 16.8 GB\n",
    "For 139,139 this should be 6.5 GB\n",
    "For 128,128 this should be 5.5 GB\n",
    "For 96,96 this should be 3.1 GB\n",
    "For 64,64 this should be 1.4 GB\n",
    "```"
   ]
  },
  {
   "cell_type": "code",
   "execution_count": 1,
   "metadata": {
    "_cell_guid": "e097aec8-4b08-4a52-a2ea-356ba28f23ca",
    "_uuid": "37602ab4582f8bb69e165a7c52f33de7a020d480"
   },
   "outputs": [],
   "source": [
    "import os\n",
    "from io import BytesIO\n",
    "from urllib import request\n",
    "import urllib3\n",
    "import pandas as pd\n",
    "import re\n",
    "import tqdm\n",
    "from PIL import Image\n",
    "\n"
   ]
  },
  {
   "cell_type": "code",
   "execution_count": 2,
   "metadata": {},
   "outputs": [],
   "source": [
    "\n",
    "# set files and dir\n",
    "DATA_FRAME, OUT_DIR = pd.read_csv('train.csv'), 'train'  # recognition challenge\n",
    "# DATA_FRAME, OUT_DIR = pd.read_csv('../input/index.csv'), '../input/index'  # retrieval challenge\n",
    "# DATA_FRAME, OUT_DIR = pd.read_csv('../input/test.csv'), '../input/test'  # test data\n",
    "\n",
    "# preferences\n",
    "TARGET_SIZE = 128  # image resolution to be stored\n",
    "IMG_QUALITY = 90  # JPG quality"
   ]
  },
  {
   "cell_type": "code",
   "execution_count": 3,
   "metadata": {},
   "outputs": [],
   "source": [
    "def overwrite_urls(df):\n",
    "    def reso_overwrite(url_tail, reso=TARGET_SIZE):\n",
    "        pattern = 's[0-9]+'\n",
    "        search_result = re.match(pattern, url_tail)\n",
    "        if search_result is None:\n",
    "            return url_tail\n",
    "        else:\n",
    "            return 's{}'.format(reso)\n",
    "\n",
    "    def join_url(parsed_url, s_reso):\n",
    "        parsed_url[-2] = s_reso\n",
    "        return '/'.join(parsed_url)\n",
    "\n",
    "    parsed_url = df.url.apply(lambda x: x.split('/'))\n",
    "    train_url_tail = parsed_url.apply(lambda x: x[-2])\n",
    "    resos = train_url_tail.apply(lambda x: reso_overwrite(x, reso=TARGET_SIZE))\n",
    "\n",
    "    overwritten_df = pd.concat([parsed_url, resos], axis=1)\n",
    "    overwritten_df.columns = ['url', 's_reso']\n",
    "    df['url'] = overwritten_df.apply(lambda x: join_url(x['url'], x['s_reso']), axis=1)\n",
    "    return df\n"
   ]
  },
  {
   "cell_type": "markdown",
   "metadata": {
    "_cell_guid": "a4ad759b-4014-4477-b75c-af10e4f718d1",
    "_uuid": "71befb4791887baf9a9f18c3d365aaae94c88066"
   },
   "source": [
    "We found that almost images have 1600x resolution.\n",
    "Downloading such a high resolution images takes so much time, so I recommend you to download images after changing url \"s1600\" to \"s{TARGET_SIZE}\" like the below script."
   ]
  },
  {
   "cell_type": "code",
   "execution_count": 4,
   "metadata": {},
   "outputs": [],
   "source": [
    "def parse_data(df):\n",
    "    #print(df.head)\n",
    "    key_url_list = [line[:3] for line in df.values]\n",
    "    return key_url_list\n"
   ]
  },
  {
   "cell_type": "code",
   "execution_count": 5,
   "metadata": {
    "_cell_guid": "b713704e-8e75-4b12-9620-d0b582ad7f7d",
    "_uuid": "af08d9b8e92a4a532b1425814bbd5593638763d3"
   },
   "outputs": [],
   "source": [
    "def download_image(key_url):\n",
    "    (key, url,label) = key_url\n",
    "    #print(key,url,label)\n",
    "    filename = 'train/'+str(label) +'/'+key+'.jpg'\n",
    "    #print(filename)\n",
    "    if not os.path.isdir('train/'+str(label)):\n",
    "        os.mkdir('train/'+str(label))\n",
    "    if os.path.exists(filename):\n",
    "        print('Image {} already exists. Skipping download.'.format(filename))\n",
    "        return 0\n",
    "\n",
    "    try:\n",
    "        response = request.urlopen(url)\n",
    "        image_data = response.read()\n",
    "    except:\n",
    "        print('Warning: Could not download image {} from {}'.format(key, url))\n",
    "        return 1\n",
    "\n",
    "    try:\n",
    "        pil_image = Image.open(BytesIO(image_data))\n",
    "    except:\n",
    "        print('Warning: Failed to parse image {}'.format(key))\n",
    "        return 1\n",
    "\n",
    "    try:\n",
    "        pil_image_rgb = pil_image.convert('RGB')\n",
    "    except:\n",
    "        print('Warning: Failed to convert image {} to RGB'.format(key))\n",
    "        return 1\n",
    "\n",
    "    try:\n",
    "        pil_image_resize = pil_image_rgb.resize((TARGET_SIZE, TARGET_SIZE))\n",
    "    except:\n",
    "        print('Warning: Failed to resize image {}'.format(key))\n",
    "        return 1\n",
    "\n",
    "    try:\n",
    "        #print('saving '+filename)\n",
    "        pil_image_resize.save(filename, format='JPEG', quality=IMG_QUALITY)\n",
    "    except:\n",
    "        print('Warning: Failed to save image {}'.format(filename))\n",
    "        return 1\n",
    "\n",
    "    return 0"
   ]
  },
  {
   "cell_type": "code",
   "execution_count": 6,
   "metadata": {},
   "outputs": [],
   "source": [
    "key_url_list = parse_data(overwrite_urls(DATA_FRAME))"
   ]
  },
  {
   "cell_type": "code",
   "execution_count": null,
   "metadata": {},
   "outputs": [
    {
     "name": "stdout",
     "output_type": "stream",
     "text": [
      "Warning: Could not download image 6e815d2054869066 from https://lh4.googleusercontent.com/-gj2wg-G_7Ls/Rm-CUR6fSEI/AAAAAAAAARA/hHaoQ56zS-M/s128/\n",
      "100\n",
      "Warning: Could not download image dd92795296511edb from https://lh4.googleusercontent.com/-ELgZSKrZbqo/SaMhrFQkXkI/AAAAAAAAAZM/mGZFAsVCWrE/s128/\n",
      "200\n",
      "Warning: Could not download image 3aac29d697ccc843 from https://lh3.googleusercontent.com/--y309S1M_ws/UVxP_nosQsI/AAAAAAAAnio/DVqsuLLPykk/s128/\n",
      "Warning: Could not download image e69d4bbac66a0c96 from http://lh3.ggpht.com/-LNw2NSKgt3U/Ru2fS4lmurI/AAAAAAAAAUQ/TRowivSdQvs/s128/\n",
      "Warning: Could not download image 64dbb4e7d40d93d6 from https://lh4.googleusercontent.com/-sQbTu2rFAwg/S_fBtdibhvI/AAAAAAAABCk/qu5bBzOyeHM/s128/\n",
      "300\n",
      "400\n",
      "Warning: Could not download image f526fd5146b2b12e from https://lh6.googleusercontent.com/-FPRORl4_uZc/R71cnw0JbsI/AAAAAAAAB9A/e07x5Ztks9A/s128/\n",
      "500\n",
      "Warning: Could not download image 0d9c049e78ba7553 from http://mw2.google.com/mw-panoramio/photos/medium/2600974.jpg\n",
      "600\n",
      "Warning: Could not download image 657dece42f5d2dea from http://lh3.ggpht.com/-zA4oGEQ2UPU/R4blHpYSaVI/AAAAAAAACp8/-yUwicziw2c/s128/\n",
      "Warning: Could not download image f46d556e5fad397e from https://lh4.googleusercontent.com/-vaQNook5IHg/TsP4zQd_EdI/AAAAAAAAACU/0Jf-uDKJLL8/s128/\n",
      "700\n",
      "800\n",
      "Warning: Could not download image 57995d442d871940 from https://lh5.googleusercontent.com/-E7-TDonXCoA/SHuKgg2fDoI/AAAAAAAACWs/_6RNuHw3UGY/s128/\n"
     ]
    }
   ],
   "source": [
    "count = 0\n",
    "for url in key_url_list:\n",
    "    count+=1\n",
    "    download_image(url)\n",
    "    if(count%100 ==0):\n",
    "        print(count)"
   ]
  },
  {
   "cell_type": "code",
   "execution_count": 11,
   "metadata": {},
   "outputs": [],
   "source": [
    "res=request.urlopen('http://static.panoramio.com/photos/original/70761397.jpg')"
   ]
  },
  {
   "cell_type": "code",
   "execution_count": null,
   "metadata": {},
   "outputs": [],
   "source": []
  }
 ],
 "metadata": {
  "anaconda-cloud": {},
  "kernelspec": {
   "display_name": "Python 3",
   "language": "python",
   "name": "python3"
  },
  "language_info": {
   "codemirror_mode": {
    "name": "ipython",
    "version": 3
   },
   "file_extension": ".py",
   "mimetype": "text/x-python",
   "name": "python",
   "nbconvert_exporter": "python",
   "pygments_lexer": "ipython3",
   "version": "3.6.5"
  }
 },
 "nbformat": 4,
 "nbformat_minor": 1
}
